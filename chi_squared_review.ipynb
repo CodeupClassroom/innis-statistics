{
 "cells": [
  {
   "cell_type": "markdown",
   "metadata": {},
   "source": [
    "1. Use the following contingency table to help answer the question of whether using a macbook and being a codeup student are independent of each other."
   ]
  },
  {
   "cell_type": "code",
   "execution_count": 2,
   "metadata": {},
   "outputs": [],
   "source": [
    "# imports\n",
    "import numpy as np\n",
    "import pandas as pd\n",
    "from scipy import stats\n",
    "from pydataset import data\n",
    "from env import usr, pw, host\n",
    "from sqlalchemy import create_engine"
   ]
  },
  {
   "cell_type": "code",
   "execution_count": null,
   "metadata": {},
   "outputs": [],
   "source": [
    "  \tCodeup Student \tNot Codeup Student\n",
    "Uses a Macbook \t49 \t20\n",
    "Doesn't Use A Macbook \t1 \t30"
   ]
  },
  {
   "cell_type": "code",
   "execution_count": 3,
   "metadata": {},
   "outputs": [],
   "source": [
    "observed = pd.DataFrame(\n",
    "    {\n",
    "        'codeup_student': [49,1],\n",
    "        'not_student': [20,30]\n",
    "    }, index=['macbook_user', 'not_macbook']\n",
    ")"
   ]
  },
  {
   "cell_type": "code",
   "execution_count": 4,
   "metadata": {},
   "outputs": [
    {
     "data": {
      "text/html": [
       "<div>\n",
       "<style scoped>\n",
       "    .dataframe tbody tr th:only-of-type {\n",
       "        vertical-align: middle;\n",
       "    }\n",
       "\n",
       "    .dataframe tbody tr th {\n",
       "        vertical-align: top;\n",
       "    }\n",
       "\n",
       "    .dataframe thead th {\n",
       "        text-align: right;\n",
       "    }\n",
       "</style>\n",
       "<table border=\"1\" class=\"dataframe\">\n",
       "  <thead>\n",
       "    <tr style=\"text-align: right;\">\n",
       "      <th></th>\n",
       "      <th>codeup_student</th>\n",
       "      <th>not_student</th>\n",
       "    </tr>\n",
       "  </thead>\n",
       "  <tbody>\n",
       "    <tr>\n",
       "      <th>macbook_user</th>\n",
       "      <td>49</td>\n",
       "      <td>20</td>\n",
       "    </tr>\n",
       "    <tr>\n",
       "      <th>not_macbook</th>\n",
       "      <td>1</td>\n",
       "      <td>30</td>\n",
       "    </tr>\n",
       "  </tbody>\n",
       "</table>\n",
       "</div>"
      ],
      "text/plain": [
       "              codeup_student  not_student\n",
       "macbook_user              49           20\n",
       "not_macbook                1           30"
      ]
     },
     "execution_count": 4,
     "metadata": {},
     "output_type": "execute_result"
    }
   ],
   "source": [
    "observed"
   ]
  },
  {
   "cell_type": "code",
   "execution_count": null,
   "metadata": {},
   "outputs": [],
   "source": [
    "# Establish a null hypothesis"
   ]
  },
  {
   "cell_type": "code",
   "execution_count": 5,
   "metadata": {},
   "outputs": [],
   "source": [
    "# H0: Use of a macbook is independent of being a codeup student\n",
    "# Ha: Use of macbook is related to being a codeup student (not independent)"
   ]
  },
  {
   "cell_type": "code",
   "execution_count": 6,
   "metadata": {},
   "outputs": [],
   "source": [
    "confidence_level = 0.95\n",
    "alpha = 1 - confidence_level"
   ]
  },
  {
   "cell_type": "code",
   "execution_count": 7,
   "metadata": {},
   "outputs": [],
   "source": [
    "chi2, p, degf, expected = stats.chi2_contingency(observed)"
   ]
  },
  {
   "cell_type": "code",
   "execution_count": 8,
   "metadata": {},
   "outputs": [
    {
     "name": "stdout",
     "output_type": "stream",
     "text": [
      "Observed:\n",
      ":\n",
      "              codeup_student  not_student\n",
      "macbook_user              49           20\n",
      "not_macbook                1           30\n",
      "~~~~~~~~~~~~~~~~~~~~~~\n",
      "Expected: \n",
      "\n",
      "              codeup_student  not_student\n",
      "macbook_user            34.5         34.5\n",
      "not_macbook             15.5         15.5\n",
      "~~~~~~~~~~~~~~~~~~~~~~\n",
      "chi^2 value: 36.6526\n",
      "p value: 0.00000000\n",
      "Our p value is less than our alpha and we can reject the null hypothesis, indicating that macbook use is not necessarily independent of codeup matriculation\n"
     ]
    }
   ],
   "source": [
    "print('Observed:\\n:')\n",
    "print(observed)\n",
    "print('~~~~~~~~~~~~~~~~~~~~~~')\n",
    "print('Expected: \\n')\n",
    "print(pd.DataFrame(expected, index=observed.index, columns=observed.columns))\n",
    "print('~~~~~~~~~~~~~~~~~~~~~~')\n",
    "print(f'chi^2 value: {chi2:.4f}')\n",
    "print(f'p value: {p:.8f}')\n",
    "if p < alpha:\n",
    "    print('Our p value is less than our alpha and we can reject the null hypothesis, indicating that macbook use is not necessarily independent of codeup matriculation')\n",
    "else:\n",
    "    print('We cannot reject the null hypothesis')"
   ]
  },
  {
   "cell_type": "markdown",
   "metadata": {},
   "source": [
    "### 2. Choose another 2 categorical variables from the mpg dataset and perform a chi2 contingency table test with them. Be sure to state your null and alternative hypotheses."
   ]
  },
  {
   "cell_type": "code",
   "execution_count": 10,
   "metadata": {},
   "outputs": [],
   "source": [
    "mpg = data('mpg')"
   ]
  },
  {
   "cell_type": "code",
   "execution_count": 11,
   "metadata": {},
   "outputs": [
    {
     "data": {
      "text/html": [
       "<div>\n",
       "<style scoped>\n",
       "    .dataframe tbody tr th:only-of-type {\n",
       "        vertical-align: middle;\n",
       "    }\n",
       "\n",
       "    .dataframe tbody tr th {\n",
       "        vertical-align: top;\n",
       "    }\n",
       "\n",
       "    .dataframe thead th {\n",
       "        text-align: right;\n",
       "    }\n",
       "</style>\n",
       "<table border=\"1\" class=\"dataframe\">\n",
       "  <thead>\n",
       "    <tr style=\"text-align: right;\">\n",
       "      <th></th>\n",
       "      <th>manufacturer</th>\n",
       "      <th>model</th>\n",
       "      <th>displ</th>\n",
       "      <th>year</th>\n",
       "      <th>cyl</th>\n",
       "      <th>trans</th>\n",
       "      <th>drv</th>\n",
       "      <th>cty</th>\n",
       "      <th>hwy</th>\n",
       "      <th>fl</th>\n",
       "      <th>class</th>\n",
       "    </tr>\n",
       "  </thead>\n",
       "  <tbody>\n",
       "    <tr>\n",
       "      <th>1</th>\n",
       "      <td>audi</td>\n",
       "      <td>a4</td>\n",
       "      <td>1.8</td>\n",
       "      <td>1999</td>\n",
       "      <td>4</td>\n",
       "      <td>auto(l5)</td>\n",
       "      <td>f</td>\n",
       "      <td>18</td>\n",
       "      <td>29</td>\n",
       "      <td>p</td>\n",
       "      <td>compact</td>\n",
       "    </tr>\n",
       "    <tr>\n",
       "      <th>2</th>\n",
       "      <td>audi</td>\n",
       "      <td>a4</td>\n",
       "      <td>1.8</td>\n",
       "      <td>1999</td>\n",
       "      <td>4</td>\n",
       "      <td>manual(m5)</td>\n",
       "      <td>f</td>\n",
       "      <td>21</td>\n",
       "      <td>29</td>\n",
       "      <td>p</td>\n",
       "      <td>compact</td>\n",
       "    </tr>\n",
       "    <tr>\n",
       "      <th>3</th>\n",
       "      <td>audi</td>\n",
       "      <td>a4</td>\n",
       "      <td>2.0</td>\n",
       "      <td>2008</td>\n",
       "      <td>4</td>\n",
       "      <td>manual(m6)</td>\n",
       "      <td>f</td>\n",
       "      <td>20</td>\n",
       "      <td>31</td>\n",
       "      <td>p</td>\n",
       "      <td>compact</td>\n",
       "    </tr>\n",
       "    <tr>\n",
       "      <th>4</th>\n",
       "      <td>audi</td>\n",
       "      <td>a4</td>\n",
       "      <td>2.0</td>\n",
       "      <td>2008</td>\n",
       "      <td>4</td>\n",
       "      <td>auto(av)</td>\n",
       "      <td>f</td>\n",
       "      <td>21</td>\n",
       "      <td>30</td>\n",
       "      <td>p</td>\n",
       "      <td>compact</td>\n",
       "    </tr>\n",
       "    <tr>\n",
       "      <th>5</th>\n",
       "      <td>audi</td>\n",
       "      <td>a4</td>\n",
       "      <td>2.8</td>\n",
       "      <td>1999</td>\n",
       "      <td>6</td>\n",
       "      <td>auto(l5)</td>\n",
       "      <td>f</td>\n",
       "      <td>16</td>\n",
       "      <td>26</td>\n",
       "      <td>p</td>\n",
       "      <td>compact</td>\n",
       "    </tr>\n",
       "  </tbody>\n",
       "</table>\n",
       "</div>"
      ],
      "text/plain": [
       "  manufacturer model  displ  year  cyl       trans drv  cty  hwy fl    class\n",
       "1         audi    a4    1.8  1999    4    auto(l5)   f   18   29  p  compact\n",
       "2         audi    a4    1.8  1999    4  manual(m5)   f   21   29  p  compact\n",
       "3         audi    a4    2.0  2008    4  manual(m6)   f   20   31  p  compact\n",
       "4         audi    a4    2.0  2008    4    auto(av)   f   21   30  p  compact\n",
       "5         audi    a4    2.8  1999    6    auto(l5)   f   16   26  p  compact"
      ]
     },
     "execution_count": 11,
     "metadata": {},
     "output_type": "execute_result"
    }
   ],
   "source": [
    "mpg.head()"
   ]
  },
  {
   "cell_type": "code",
   "execution_count": 12,
   "metadata": {},
   "outputs": [
    {
     "data": {
      "text/plain": [
       "manufacturer    15\n",
       "model           38\n",
       "displ           35\n",
       "year             2\n",
       "cyl              4\n",
       "trans           10\n",
       "drv              3\n",
       "cty             21\n",
       "hwy             27\n",
       "fl               5\n",
       "class            7\n",
       "dtype: int64"
      ]
     },
     "execution_count": 12,
     "metadata": {},
     "output_type": "execute_result"
    }
   ],
   "source": [
    "mpg.nunique()"
   ]
  },
  {
   "cell_type": "code",
   "execution_count": null,
   "metadata": {},
   "outputs": [],
   "source": [
    "# manufacturer: 15 options\n",
    "# class: 7 options"
   ]
  },
  {
   "cell_type": "code",
   "execution_count": 13,
   "metadata": {},
   "outputs": [],
   "source": [
    "# Null hypothesis:\n",
    "# H0: Vehicle manufacturer is independent of vehicle class type\n",
    "# Ha: Vehicle manufacturer is not independent of vehicle class type\n",
    "# keep same alpha and confidence : 0.05 / .95"
   ]
  },
  {
   "cell_type": "code",
   "execution_count": 14,
   "metadata": {},
   "outputs": [],
   "source": [
    "observed = pd.crosstab(mpg['class'], mpg['manufacturer'])"
   ]
  },
  {
   "cell_type": "code",
   "execution_count": 15,
   "metadata": {},
   "outputs": [
    {
     "data": {
      "text/html": [
       "<div>\n",
       "<style scoped>\n",
       "    .dataframe tbody tr th:only-of-type {\n",
       "        vertical-align: middle;\n",
       "    }\n",
       "\n",
       "    .dataframe tbody tr th {\n",
       "        vertical-align: top;\n",
       "    }\n",
       "\n",
       "    .dataframe thead th {\n",
       "        text-align: right;\n",
       "    }\n",
       "</style>\n",
       "<table border=\"1\" class=\"dataframe\">\n",
       "  <thead>\n",
       "    <tr style=\"text-align: right;\">\n",
       "      <th>manufacturer</th>\n",
       "      <th>audi</th>\n",
       "      <th>chevrolet</th>\n",
       "      <th>dodge</th>\n",
       "      <th>ford</th>\n",
       "      <th>honda</th>\n",
       "      <th>hyundai</th>\n",
       "      <th>jeep</th>\n",
       "      <th>land rover</th>\n",
       "      <th>lincoln</th>\n",
       "      <th>mercury</th>\n",
       "      <th>nissan</th>\n",
       "      <th>pontiac</th>\n",
       "      <th>subaru</th>\n",
       "      <th>toyota</th>\n",
       "      <th>volkswagen</th>\n",
       "    </tr>\n",
       "    <tr>\n",
       "      <th>class</th>\n",
       "      <th></th>\n",
       "      <th></th>\n",
       "      <th></th>\n",
       "      <th></th>\n",
       "      <th></th>\n",
       "      <th></th>\n",
       "      <th></th>\n",
       "      <th></th>\n",
       "      <th></th>\n",
       "      <th></th>\n",
       "      <th></th>\n",
       "      <th></th>\n",
       "      <th></th>\n",
       "      <th></th>\n",
       "      <th></th>\n",
       "    </tr>\n",
       "  </thead>\n",
       "  <tbody>\n",
       "    <tr>\n",
       "      <th>2seater</th>\n",
       "      <td>0</td>\n",
       "      <td>5</td>\n",
       "      <td>0</td>\n",
       "      <td>0</td>\n",
       "      <td>0</td>\n",
       "      <td>0</td>\n",
       "      <td>0</td>\n",
       "      <td>0</td>\n",
       "      <td>0</td>\n",
       "      <td>0</td>\n",
       "      <td>0</td>\n",
       "      <td>0</td>\n",
       "      <td>0</td>\n",
       "      <td>0</td>\n",
       "      <td>0</td>\n",
       "    </tr>\n",
       "    <tr>\n",
       "      <th>compact</th>\n",
       "      <td>15</td>\n",
       "      <td>0</td>\n",
       "      <td>0</td>\n",
       "      <td>0</td>\n",
       "      <td>0</td>\n",
       "      <td>0</td>\n",
       "      <td>0</td>\n",
       "      <td>0</td>\n",
       "      <td>0</td>\n",
       "      <td>0</td>\n",
       "      <td>2</td>\n",
       "      <td>0</td>\n",
       "      <td>4</td>\n",
       "      <td>12</td>\n",
       "      <td>14</td>\n",
       "    </tr>\n",
       "    <tr>\n",
       "      <th>midsize</th>\n",
       "      <td>3</td>\n",
       "      <td>5</td>\n",
       "      <td>0</td>\n",
       "      <td>0</td>\n",
       "      <td>0</td>\n",
       "      <td>7</td>\n",
       "      <td>0</td>\n",
       "      <td>0</td>\n",
       "      <td>0</td>\n",
       "      <td>0</td>\n",
       "      <td>7</td>\n",
       "      <td>5</td>\n",
       "      <td>0</td>\n",
       "      <td>7</td>\n",
       "      <td>7</td>\n",
       "    </tr>\n",
       "    <tr>\n",
       "      <th>minivan</th>\n",
       "      <td>0</td>\n",
       "      <td>0</td>\n",
       "      <td>11</td>\n",
       "      <td>0</td>\n",
       "      <td>0</td>\n",
       "      <td>0</td>\n",
       "      <td>0</td>\n",
       "      <td>0</td>\n",
       "      <td>0</td>\n",
       "      <td>0</td>\n",
       "      <td>0</td>\n",
       "      <td>0</td>\n",
       "      <td>0</td>\n",
       "      <td>0</td>\n",
       "      <td>0</td>\n",
       "    </tr>\n",
       "    <tr>\n",
       "      <th>pickup</th>\n",
       "      <td>0</td>\n",
       "      <td>0</td>\n",
       "      <td>19</td>\n",
       "      <td>7</td>\n",
       "      <td>0</td>\n",
       "      <td>0</td>\n",
       "      <td>0</td>\n",
       "      <td>0</td>\n",
       "      <td>0</td>\n",
       "      <td>0</td>\n",
       "      <td>0</td>\n",
       "      <td>0</td>\n",
       "      <td>0</td>\n",
       "      <td>7</td>\n",
       "      <td>0</td>\n",
       "    </tr>\n",
       "    <tr>\n",
       "      <th>subcompact</th>\n",
       "      <td>0</td>\n",
       "      <td>0</td>\n",
       "      <td>0</td>\n",
       "      <td>9</td>\n",
       "      <td>9</td>\n",
       "      <td>7</td>\n",
       "      <td>0</td>\n",
       "      <td>0</td>\n",
       "      <td>0</td>\n",
       "      <td>0</td>\n",
       "      <td>0</td>\n",
       "      <td>0</td>\n",
       "      <td>4</td>\n",
       "      <td>0</td>\n",
       "      <td>6</td>\n",
       "    </tr>\n",
       "    <tr>\n",
       "      <th>suv</th>\n",
       "      <td>0</td>\n",
       "      <td>9</td>\n",
       "      <td>7</td>\n",
       "      <td>9</td>\n",
       "      <td>0</td>\n",
       "      <td>0</td>\n",
       "      <td>8</td>\n",
       "      <td>4</td>\n",
       "      <td>3</td>\n",
       "      <td>4</td>\n",
       "      <td>4</td>\n",
       "      <td>0</td>\n",
       "      <td>6</td>\n",
       "      <td>8</td>\n",
       "      <td>0</td>\n",
       "    </tr>\n",
       "  </tbody>\n",
       "</table>\n",
       "</div>"
      ],
      "text/plain": [
       "manufacturer  audi  chevrolet  dodge  ford  honda  hyundai  jeep  land rover  \\\n",
       "class                                                                          \n",
       "2seater          0          5      0     0      0        0     0           0   \n",
       "compact         15          0      0     0      0        0     0           0   \n",
       "midsize          3          5      0     0      0        7     0           0   \n",
       "minivan          0          0     11     0      0        0     0           0   \n",
       "pickup           0          0     19     7      0        0     0           0   \n",
       "subcompact       0          0      0     9      9        7     0           0   \n",
       "suv              0          9      7     9      0        0     8           4   \n",
       "\n",
       "manufacturer  lincoln  mercury  nissan  pontiac  subaru  toyota  volkswagen  \n",
       "class                                                                        \n",
       "2seater             0        0       0        0       0       0           0  \n",
       "compact             0        0       2        0       4      12          14  \n",
       "midsize             0        0       7        5       0       7           7  \n",
       "minivan             0        0       0        0       0       0           0  \n",
       "pickup              0        0       0        0       0       7           0  \n",
       "subcompact          0        0       0        0       4       0           6  \n",
       "suv                 3        4       4        0       6       8           0  "
      ]
     },
     "execution_count": 15,
     "metadata": {},
     "output_type": "execute_result"
    }
   ],
   "source": [
    "observed"
   ]
  },
  {
   "cell_type": "code",
   "execution_count": 24,
   "metadata": {},
   "outputs": [],
   "source": [
    "chi2, p, degf, expected = stats.chi2_contingency(observed)"
   ]
  },
  {
   "cell_type": "code",
   "execution_count": 17,
   "metadata": {},
   "outputs": [
    {
     "data": {
      "text/plain": [
       "84"
      ]
     },
     "execution_count": 17,
     "metadata": {},
     "output_type": "execute_result"
    }
   ],
   "source": [
    "dof"
   ]
  },
  {
   "cell_type": "code",
   "execution_count": 22,
   "metadata": {},
   "outputs": [
    {
     "name": "stdout",
     "output_type": "stream",
     "text": [
      "| class      |     audi |   chevrolet |    dodge |     ford |    honda |   hyundai |     jeep |   land rover |   lincoln |   mercury |   nissan |   pontiac |   subaru |   toyota |   volkswagen |\n",
      "|:-----------|---------:|------------:|---------:|---------:|---------:|----------:|---------:|-------------:|----------:|----------:|---------:|----------:|---------:|---------:|-------------:|\n",
      "| 2seater    | 0.384615 |    0.405983 | 0.790598 | 0.534188 | 0.192308 |  0.299145 | 0.17094  |    0.0854701 | 0.0641026 | 0.0854701 | 0.277778 |  0.106838 | 0.299145 | 0.726496 |     0.576923 |\n",
      "| compact    | 3.61538  |    3.81624  | 7.43162  | 5.02137  | 1.80769  |  2.81197  | 1.60684  |    0.803419  | 0.602564  | 0.803419  | 2.61111  |  1.00427  | 2.81197  | 6.82906  |     5.42308  |\n",
      "| midsize    | 3.15385  |    3.32906  | 6.48291  | 4.38034  | 1.57692  |  2.45299  | 1.40171  |    0.700855  | 0.525641  | 0.700855  | 2.27778  |  0.876068 | 2.45299  | 5.95726  |     4.73077  |\n",
      "| minivan    | 0.846154 |    0.893162 | 1.73932  | 1.17521  | 0.423077 |  0.65812  | 0.376068 |    0.188034  | 0.141026  | 0.188034  | 0.611111 |  0.235043 | 0.65812  | 1.59829  |     1.26923  |\n",
      "| pickup     | 2.53846  |    2.67949  | 5.21795  | 3.52564  | 1.26923  |  1.97436  | 1.12821  |    0.564103  | 0.423077  | 0.564103  | 1.83333  |  0.705128 | 1.97436  | 4.79487  |     3.80769  |\n",
      "| subcompact | 2.69231  |    2.84188  | 5.53419  | 3.73932  | 1.34615  |  2.09402  | 1.19658  |    0.598291  | 0.448718  | 0.598291  | 1.94444  |  0.747863 | 2.09402  | 5.08547  |     4.03846  |\n",
      "| suv        | 4.76923  |    5.03419  | 9.80342  | 6.62393  | 2.38462  |  3.7094   | 2.11966  |    1.05983   | 0.794872  | 1.05983   | 3.44444  |  1.32479  | 3.7094   | 9.00855  |     7.15385  |\n"
     ]
    }
   ],
   "source": [
    "print(\n",
    "    #cast my expexted values into a DataFrame, assign the index and columns from observered\n",
    "    pd.DataFrame(expected, index=observed.index, columns=observed.columns).to_markdown())"
   ]
  },
  {
   "cell_type": "code",
   "execution_count": 25,
   "metadata": {},
   "outputs": [
    {
     "name": "stdout",
     "output_type": "stream",
     "text": [
      "Observed:\n",
      "\n",
      "manufacturer  audi  chevrolet  dodge  ford  honda  hyundai  jeep  land rover  \\\n",
      "class                                                                          \n",
      "2seater          0          5      0     0      0        0     0           0   \n",
      "compact         15          0      0     0      0        0     0           0   \n",
      "midsize          3          5      0     0      0        7     0           0   \n",
      "minivan          0          0     11     0      0        0     0           0   \n",
      "pickup           0          0     19     7      0        0     0           0   \n",
      "subcompact       0          0      0     9      9        7     0           0   \n",
      "suv              0          9      7     9      0        0     8           4   \n",
      "\n",
      "manufacturer  lincoln  mercury  nissan  pontiac  subaru  toyota  volkswagen  \n",
      "class                                                                        \n",
      "2seater             0        0       0        0       0       0           0  \n",
      "compact             0        0       2        0       4      12          14  \n",
      "midsize             0        0       7        5       0       7           7  \n",
      "minivan             0        0       0        0       0       0           0  \n",
      "pickup              0        0       0        0       0       7           0  \n",
      "subcompact          0        0       0        0       4       0           6  \n",
      "suv                 3        4       4        0       6       8           0  \n",
      "~~~~~~~~~~~~~~~~~~~~~~\n",
      "Expected: \n",
      "\n",
      "manufacturer      audi  chevrolet     dodge      ford     honda   hyundai  \\\n",
      "class                                                                       \n",
      "2seater       0.384615   0.405983  0.790598  0.534188  0.192308  0.299145   \n",
      "compact       3.615385   3.816239  7.431624  5.021368  1.807692  2.811966   \n",
      "midsize       3.153846   3.329060  6.482906  4.380342  1.576923  2.452991   \n",
      "minivan       0.846154   0.893162  1.739316  1.175214  0.423077  0.658120   \n",
      "pickup        2.538462   2.679487  5.217949  3.525641  1.269231  1.974359   \n",
      "subcompact    2.692308   2.841880  5.534188  3.739316  1.346154  2.094017   \n",
      "suv           4.769231   5.034188  9.803419  6.623932  2.384615  3.709402   \n",
      "\n",
      "manufacturer      jeep  land rover   lincoln   mercury    nissan   pontiac  \\\n",
      "class                                                                        \n",
      "2seater       0.170940    0.085470  0.064103  0.085470  0.277778  0.106838   \n",
      "compact       1.606838    0.803419  0.602564  0.803419  2.611111  1.004274   \n",
      "midsize       1.401709    0.700855  0.525641  0.700855  2.277778  0.876068   \n",
      "minivan       0.376068    0.188034  0.141026  0.188034  0.611111  0.235043   \n",
      "pickup        1.128205    0.564103  0.423077  0.564103  1.833333  0.705128   \n",
      "subcompact    1.196581    0.598291  0.448718  0.598291  1.944444  0.747863   \n",
      "suv           2.119658    1.059829  0.794872  1.059829  3.444444  1.324786   \n",
      "\n",
      "manufacturer    subaru    toyota  volkswagen  \n",
      "class                                         \n",
      "2seater       0.299145  0.726496    0.576923  \n",
      "compact       2.811966  6.829060    5.423077  \n",
      "midsize       2.452991  5.957265    4.730769  \n",
      "minivan       0.658120  1.598291    1.269231  \n",
      "pickup        1.974359  4.794872    3.807692  \n",
      "subcompact    2.094017  5.085470    4.038462  \n",
      "suv           3.709402  9.008547    7.153846  \n",
      "~~~~~~~~~~~~~~~~~~~~~~\n",
      "chi^2 value: 464.3721\n",
      "p value: 0.00000000\n",
      "degrees of freedom: 84\n",
      "Our p value is less than our alpha and we can reject the null hypothesis\n",
      "         We can suggest that vehicle class type if not independent of manufacturer\n"
     ]
    }
   ],
   "source": [
    "print('Observed:\\n')\n",
    "print(observed)\n",
    "print('~~~~~~~~~~~~~~~~~~~~~~')\n",
    "print('Expected: \\n')\n",
    "print(pd.DataFrame(expected, index=observed.index, columns=observed.columns))\n",
    "print('~~~~~~~~~~~~~~~~~~~~~~')\n",
    "print(f'chi^2 value: {chi2:.4f}')\n",
    "print(f'p value: {p:.8f}')\n",
    "print(f'degrees of freedom: {degf}')\n",
    "if p < alpha:\n",
    "    print('''Our p value is less than our alpha and we can reject the null hypothesis\n",
    "         We can suggest that vehicle class type if not independent of manufacturer''')\n",
    "else:\n",
    "    print('We cannot reject the null hypothesis')"
   ]
  },
  {
   "cell_type": "markdown",
   "metadata": {},
   "source": [
    "## 3. Use the data from the employees database to answer these questions:"
   ]
  },
  {
   "cell_type": "markdown",
   "metadata": {},
   "source": [
    "### Is an employee's gender independent of whether an employee works in sales or marketing? (only look at current employees)\n"
   ]
  },
  {
   "cell_type": "code",
   "execution_count": null,
   "metadata": {},
   "outputs": [],
   "source": [
    "# set up sql connection"
   ]
  },
  {
   "cell_type": "code",
   "execution_count": 26,
   "metadata": {},
   "outputs": [],
   "source": [
    "def get_connection(db, user, host, password):\n",
    "    url = f'mysql+pymysql://{user}:{password}@{host}/{db}'\n",
    "    return create_engine(url)"
   ]
  },
  {
   "cell_type": "code",
   "execution_count": 27,
   "metadata": {},
   "outputs": [],
   "source": [
    "conn = get_connection('employees', usr, host, pw)"
   ]
  },
  {
   "cell_type": "code",
   "execution_count": null,
   "metadata": {},
   "outputs": [],
   "source": [
    "# make our query for the parameters that we want:"
   ]
  },
  {
   "cell_type": "code",
   "execution_count": 28,
   "metadata": {
    "tags": []
   },
   "outputs": [],
   "source": [
    "query = '''SELECT e.gender, d.dept_name\n",
    "FROM employees e\n",
    "JOIN dept_emp de ON de.emp_no = e.emp_no\n",
    "AND de.to_date > NOW()\n",
    "JOIN departments d ON d.dept_no = de.dept_no'''"
   ]
  },
  {
   "cell_type": "code",
   "execution_count": 33,
   "metadata": {},
   "outputs": [],
   "source": [
    "# load up our data\n",
    "gender_dept = pd.read_sql(query, conn)"
   ]
  },
  {
   "cell_type": "code",
   "execution_count": 34,
   "metadata": {},
   "outputs": [
    {
     "data": {
      "text/html": [
       "<div>\n",
       "<style scoped>\n",
       "    .dataframe tbody tr th:only-of-type {\n",
       "        vertical-align: middle;\n",
       "    }\n",
       "\n",
       "    .dataframe tbody tr th {\n",
       "        vertical-align: top;\n",
       "    }\n",
       "\n",
       "    .dataframe thead th {\n",
       "        text-align: right;\n",
       "    }\n",
       "</style>\n",
       "<table border=\"1\" class=\"dataframe\">\n",
       "  <thead>\n",
       "    <tr style=\"text-align: right;\">\n",
       "      <th></th>\n",
       "      <th>gender</th>\n",
       "      <th>dept_name</th>\n",
       "    </tr>\n",
       "  </thead>\n",
       "  <tbody>\n",
       "    <tr>\n",
       "      <th>0</th>\n",
       "      <td>M</td>\n",
       "      <td>Customer Service</td>\n",
       "    </tr>\n",
       "    <tr>\n",
       "      <th>1</th>\n",
       "      <td>F</td>\n",
       "      <td>Customer Service</td>\n",
       "    </tr>\n",
       "    <tr>\n",
       "      <th>2</th>\n",
       "      <td>M</td>\n",
       "      <td>Customer Service</td>\n",
       "    </tr>\n",
       "    <tr>\n",
       "      <th>3</th>\n",
       "      <td>F</td>\n",
       "      <td>Customer Service</td>\n",
       "    </tr>\n",
       "    <tr>\n",
       "      <th>4</th>\n",
       "      <td>F</td>\n",
       "      <td>Customer Service</td>\n",
       "    </tr>\n",
       "  </tbody>\n",
       "</table>\n",
       "</div>"
      ],
      "text/plain": [
       "  gender         dept_name\n",
       "0      M  Customer Service\n",
       "1      F  Customer Service\n",
       "2      M  Customer Service\n",
       "3      F  Customer Service\n",
       "4      F  Customer Service"
      ]
     },
     "execution_count": 34,
     "metadata": {},
     "output_type": "execute_result"
    }
   ],
   "source": [
    "gender_dept.head()"
   ]
  },
  {
   "cell_type": "code",
   "execution_count": 35,
   "metadata": {},
   "outputs": [],
   "source": [
    "gender_dept = gender_dept[(gender_dept.dept_name == 'Sales') | (gender_dept.dept_name == 'Marketing')]"
   ]
  },
  {
   "cell_type": "code",
   "execution_count": 36,
   "metadata": {},
   "outputs": [
    {
     "data": {
      "text/plain": [
       "Sales        37701\n",
       "Marketing    14842\n",
       "Name: dept_name, dtype: int64"
      ]
     },
     "execution_count": 36,
     "metadata": {},
     "output_type": "execute_result"
    }
   ],
   "source": [
    "gender_dept.dept_name.value_counts()"
   ]
  },
  {
   "cell_type": "code",
   "execution_count": 37,
   "metadata": {},
   "outputs": [],
   "source": [
    "observed = pd.crosstab(gender_dept.gender, gender_dept.dept_name)"
   ]
  },
  {
   "cell_type": "code",
   "execution_count": 38,
   "metadata": {},
   "outputs": [
    {
     "data": {
      "text/html": [
       "<div>\n",
       "<style scoped>\n",
       "    .dataframe tbody tr th:only-of-type {\n",
       "        vertical-align: middle;\n",
       "    }\n",
       "\n",
       "    .dataframe tbody tr th {\n",
       "        vertical-align: top;\n",
       "    }\n",
       "\n",
       "    .dataframe thead th {\n",
       "        text-align: right;\n",
       "    }\n",
       "</style>\n",
       "<table border=\"1\" class=\"dataframe\">\n",
       "  <thead>\n",
       "    <tr style=\"text-align: right;\">\n",
       "      <th>dept_name</th>\n",
       "      <th>Marketing</th>\n",
       "      <th>Sales</th>\n",
       "    </tr>\n",
       "    <tr>\n",
       "      <th>gender</th>\n",
       "      <th></th>\n",
       "      <th></th>\n",
       "    </tr>\n",
       "  </thead>\n",
       "  <tbody>\n",
       "    <tr>\n",
       "      <th>F</th>\n",
       "      <td>5864</td>\n",
       "      <td>14999</td>\n",
       "    </tr>\n",
       "    <tr>\n",
       "      <th>M</th>\n",
       "      <td>8978</td>\n",
       "      <td>22702</td>\n",
       "    </tr>\n",
       "  </tbody>\n",
       "</table>\n",
       "</div>"
      ],
      "text/plain": [
       "dept_name  Marketing  Sales\n",
       "gender                     \n",
       "F               5864  14999\n",
       "M               8978  22702"
      ]
     },
     "execution_count": 38,
     "metadata": {},
     "output_type": "execute_result"
    }
   ],
   "source": [
    "observed"
   ]
  },
  {
   "cell_type": "code",
   "execution_count": 40,
   "metadata": {},
   "outputs": [],
   "source": [
    "# H0: Gender is independent of status in sales vs marketing departments\n",
    "# Ha; Gender is not independent of status in sales or marketing departments"
   ]
  },
  {
   "cell_type": "code",
   "execution_count": 41,
   "metadata": {},
   "outputs": [],
   "source": [
    "chi2, p, degf, expected = stats.chi2_contingency(observed)"
   ]
  },
  {
   "cell_type": "code",
   "execution_count": 42,
   "metadata": {},
   "outputs": [],
   "source": [
    "alpha = 0.05"
   ]
  },
  {
   "cell_type": "code",
   "execution_count": 43,
   "metadata": {},
   "outputs": [
    {
     "name": "stdout",
     "output_type": "stream",
     "text": [
      "Observed:\n",
      "\n",
      "dept_name  Marketing  Sales\n",
      "gender                     \n",
      "F               5864  14999\n",
      "M               8978  22702\n",
      "~~~~~~~~~~~~~~~~~~~~~~\n",
      "Expected: \n",
      "\n",
      "dept_name    Marketing         Sales\n",
      "gender                              \n",
      "F          5893.242601  14969.757399\n",
      "M          8948.757399  22731.242601\n",
      "~~~~~~~~~~~~~~~~~~~~~~\n",
      "chi^2 value: 0.3240\n",
      "p value: 0.56919386\n",
      "degrees of freedom: 1\n",
      "We cannot reject the null hypothesis\n"
     ]
    }
   ],
   "source": [
    "print('Observed:\\n')\n",
    "print(observed)\n",
    "print('~~~~~~~~~~~~~~~~~~~~~~')\n",
    "print('Expected: \\n')\n",
    "print(pd.DataFrame(expected, index=observed.index, columns=observed.columns))\n",
    "print('~~~~~~~~~~~~~~~~~~~~~~')\n",
    "print(f'chi^2 value: {chi2:.4f}')\n",
    "print(f'p value: {p:.8f}')\n",
    "print(f'degrees of freedom: {degf}')\n",
    "if p < alpha:\n",
    "    print('''Our p value is less than our alpha and we can reject the null hypothesis\n",
    "         We can suggest working in Sales compared to Marketing is not independent of employee gender''')\n",
    "else:\n",
    "    print('We cannot reject the null hypothesis')"
   ]
  },
  {
   "cell_type": "markdown",
   "metadata": {},
   "source": [
    "#### Is an employee's gender independent of whether or not they are or have been a manager?"
   ]
  },
  {
   "cell_type": "code",
   "execution_count": 44,
   "metadata": {
    "tags": []
   },
   "outputs": [],
   "source": [
    "query = '''SELECT e.gender, dm.dept_no AS manager_status\n",
    "FROM employees e\n",
    "LEFT JOIN dept_manager dm ON dm.emp_no = e.emp_no'''"
   ]
  },
  {
   "cell_type": "code",
   "execution_count": 45,
   "metadata": {
    "tags": []
   },
   "outputs": [],
   "source": [
    "gender_mngr = pd.read_sql(query, conn)"
   ]
  },
  {
   "cell_type": "code",
   "execution_count": 46,
   "metadata": {
    "tags": []
   },
   "outputs": [
    {
     "data": {
      "text/html": [
       "<div>\n",
       "<style scoped>\n",
       "    .dataframe tbody tr th:only-of-type {\n",
       "        vertical-align: middle;\n",
       "    }\n",
       "\n",
       "    .dataframe tbody tr th {\n",
       "        vertical-align: top;\n",
       "    }\n",
       "\n",
       "    .dataframe thead th {\n",
       "        text-align: right;\n",
       "    }\n",
       "</style>\n",
       "<table border=\"1\" class=\"dataframe\">\n",
       "  <thead>\n",
       "    <tr style=\"text-align: right;\">\n",
       "      <th></th>\n",
       "      <th>gender</th>\n",
       "      <th>manager_status</th>\n",
       "    </tr>\n",
       "  </thead>\n",
       "  <tbody>\n",
       "    <tr>\n",
       "      <th>0</th>\n",
       "      <td>M</td>\n",
       "      <td>None</td>\n",
       "    </tr>\n",
       "    <tr>\n",
       "      <th>1</th>\n",
       "      <td>F</td>\n",
       "      <td>None</td>\n",
       "    </tr>\n",
       "    <tr>\n",
       "      <th>2</th>\n",
       "      <td>M</td>\n",
       "      <td>None</td>\n",
       "    </tr>\n",
       "    <tr>\n",
       "      <th>3</th>\n",
       "      <td>M</td>\n",
       "      <td>None</td>\n",
       "    </tr>\n",
       "    <tr>\n",
       "      <th>4</th>\n",
       "      <td>M</td>\n",
       "      <td>None</td>\n",
       "    </tr>\n",
       "  </tbody>\n",
       "</table>\n",
       "</div>"
      ],
      "text/plain": [
       "  gender manager_status\n",
       "0      M           None\n",
       "1      F           None\n",
       "2      M           None\n",
       "3      M           None\n",
       "4      M           None"
      ]
     },
     "execution_count": 46,
     "metadata": {},
     "output_type": "execute_result"
    }
   ],
   "source": [
    "gender_mngr.head()"
   ]
  },
  {
   "cell_type": "code",
   "execution_count": 47,
   "metadata": {
    "tags": []
   },
   "outputs": [],
   "source": [
    "gender_mngr.fillna(0, inplace=True)"
   ]
  },
  {
   "cell_type": "code",
   "execution_count": 49,
   "metadata": {},
   "outputs": [
    {
     "data": {
      "text/plain": [
       "0       300000\n",
       "d009         4\n",
       "d004         4\n",
       "d006         4\n",
       "d008         2\n",
       "d002         2\n",
       "d001         2\n",
       "d005         2\n",
       "d003         2\n",
       "d007         2\n",
       "Name: manager_status, dtype: int64"
      ]
     },
     "execution_count": 49,
     "metadata": {},
     "output_type": "execute_result"
    }
   ],
   "source": [
    "gender_mngr.manager_status.value_counts()"
   ]
  },
  {
   "cell_type": "code",
   "execution_count": 50,
   "metadata": {
    "tags": []
   },
   "outputs": [],
   "source": [
    "gender_mngr['manager_status'] = gender_mngr.manager_status.apply(lambda x: x if x==0 else 1)"
   ]
  },
  {
   "cell_type": "code",
   "execution_count": 51,
   "metadata": {
    "tags": []
   },
   "outputs": [
    {
     "data": {
      "text/plain": [
       "0    300000\n",
       "1        24\n",
       "Name: manager_status, dtype: int64"
      ]
     },
     "execution_count": 51,
     "metadata": {},
     "output_type": "execute_result"
    }
   ],
   "source": [
    "gender_mngr.manager_status.value_counts()"
   ]
  },
  {
   "cell_type": "code",
   "execution_count": 52,
   "metadata": {
    "tags": []
   },
   "outputs": [],
   "source": [
    "observed = pd.crosstab(gender_mngr.gender, gender_mngr.manager_status)"
   ]
  },
  {
   "cell_type": "code",
   "execution_count": 53,
   "metadata": {
    "tags": []
   },
   "outputs": [],
   "source": [
    "chi2, p, degf, expected = stats.chi2_contingency(observed)"
   ]
  },
  {
   "cell_type": "code",
   "execution_count": 55,
   "metadata": {
    "tags": []
   },
   "outputs": [
    {
     "name": "stdout",
     "output_type": "stream",
     "text": [
      "Observed:\n",
      "\n",
      "manager_status       0   1\n",
      "gender                    \n",
      "F               120038  13\n",
      "M               179962  11\n",
      "~~~~~~~~~~~~~~~~~~~~~~\n",
      "Expected: \n",
      "\n",
      "manager_status              0          1\n",
      "gender                                  \n",
      "F               120041.396688   9.603312\n",
      "M               179958.603312  14.396688\n",
      "~~~~~~~~~~~~~~~~~~~~~~\n",
      "chi^2 value: 1.4567\n",
      "p value: 0.22745819\n",
      "We cannot reject the null hypothesis\n"
     ]
    }
   ],
   "source": [
    "print('Observed:\\n')\n",
    "print(observed)\n",
    "print('~~~~~~~~~~~~~~~~~~~~~~')\n",
    "print('Expected: \\n')\n",
    "print(pd.DataFrame(expected, index=observed.index, columns=observed.columns))\n",
    "print('~~~~~~~~~~~~~~~~~~~~~~')\n",
    "print(f'chi^2 value: {chi2:.4f}')\n",
    "print(f'p value: {p:.8f}')\n",
    "if p < alpha:\n",
    "    print('''Our p value is less than our alpha and we can reject the null hypothesis\n",
    "         We can suggest gender of employee is not independent of history as a manager''')\n",
    "else:\n",
    "    print('We cannot reject the null hypothesis')"
   ]
  },
  {
   "cell_type": "code",
   "execution_count": null,
   "metadata": {},
   "outputs": [],
   "source": [
    "# T-test caveat and specification for one-tailed tests (now that y'all are experts)\n",
    "# \n",
    "# previously stated: h0:\n",
    "# value1.mean == value2.mean\n",
    "# previously stated ha for one-tailed:\n",
    "# value1.mean > value2.mean\n",
    "# \n",
    "# actual corect h0 for this type of one-tailed spec:\n",
    "# \n",
    "# H0: value1.mean <= value2.mean\n",
    "# Ha: value1.mean > value2.mean\n",
    "# \n",
    "# H0 should encompass *everything* that Ha does not cover in regard to options"
   ]
  }
 ],
 "metadata": {
  "kernelspec": {
   "display_name": "Python 3",
   "language": "python",
   "name": "python3"
  },
  "language_info": {
   "codemirror_mode": {
    "name": "ipython",
    "version": 3
   },
   "file_extension": ".py",
   "mimetype": "text/x-python",
   "name": "python",
   "nbconvert_exporter": "python",
   "pygments_lexer": "ipython3",
   "version": "3.9.4"
  }
 },
 "nbformat": 4,
 "nbformat_minor": 4
}
