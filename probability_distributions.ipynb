{
 "cells": [
  {
   "cell_type": "markdown",
   "id": "d6844c7b-f503-47df-ac3a-2faae9b3cc9f",
   "metadata": {},
   "source": [
    "# Probability Distributions"
   ]
  },
  {
   "cell_type": "code",
   "execution_count": 13,
   "id": "b18aca47-8a81-494f-a11a-e9fa13910860",
   "metadata": {},
   "outputs": [],
   "source": [
    "import numpy as np\n",
    "import pandas as pd\n",
    "import matplotlib.pyplot as plt\n",
    "from scipy import stats"
   ]
  },
  {
   "cell_type": "markdown",
   "id": "e7eb1896-3de4-4bc6-884e-61045965992e",
   "metadata": {},
   "source": [
    "- **probability distributions**: a mathematical function we use to represent a real-world process where the outcome is a *random variable*\n",
    "- **random variable** a variable who's value is unknown\n",
    "- Most distributions have **parameters** that define their shape\n",
    "\n",
    "4 distributions covered in this lesson:\n",
    "\n",
    "- uniform: all values are equally likely\n",
    "- binomial\n",
    "- normal\n",
    "- poisson"
   ]
  },
  {
   "cell_type": "code",
   "execution_count": 17,
   "id": "24323d5c-04fc-4f71-8cc4-5137d5b0c07f",
   "metadata": {},
   "outputs": [
    {
     "data": {
      "image/png": "[encoded data removed]",
      "text/plain": [
       "<Figure size 640x480 with 1 Axes>"
      ]
     },
     "metadata": {},
     "output_type": "display_data"
    }
   ],
   "source": [
    "pd.Series(stats.randint(1, 7).rvs(10000)).value_counts().sort_index().plot.bar()\n",
    "plt.title('Outcome of 10,000 dice rolls')\n",
    "plt.ylabel('Frequency')\n",
    "plt.show()"
   ]
  },
  {
   "cell_type": "markdown",
   "id": "b3e3106d-2293-4053-818c-c6bb4d8515c8",
   "metadata": {},
   "source": [
    "**Given a value, what's the probability?**"
   ]
  },
  {
   "cell_type": "code",
   "execution_count": 29,
   "id": "b2e85306-40dc-4ee3-b33c-800269f75f89",
   "metadata": {},
   "outputs": [
    {
     "data": {
      "text/plain": [
       "0.1701"
      ]
     },
     "execution_count": 29,
     "metadata": {},
     "output_type": "execute_result"
    }
   ],
   "source": [
    "(stats.randint(1, 7).rvs(10000) == 3).mean()"
   ]
  },
  {
   "cell_type": "code",
   "execution_count": 30,
   "id": "00ae5799-c703-4a1c-80f7-c851e99ad6ea",
   "metadata": {},
   "outputs": [
    {
     "data": {
      "text/plain": [
       "0.16666666666666666"
      ]
     },
     "execution_count": 30,
     "metadata": {},
     "output_type": "execute_result"
    }
   ],
   "source": [
    "stats.randint(1, 7).pmf(3)"
   ]
  },
  {
   "cell_type": "markdown",
   "id": "845c187c-9a42-4093-97cf-410a76917d97",
   "metadata": {},
   "source": [
    "What's the likelihood we roll less than or equal to 3?"
   ]
  },
  {
   "cell_type": "code",
   "execution_count": 37,
   "id": "3cc4ec33-c3e7-48b5-b543-7a287801fd44",
   "metadata": {},
   "outputs": [
    {
     "data": {
      "text/plain": [
       "0.511"
      ]
     },
     "execution_count": 37,
     "metadata": {},
     "output_type": "execute_result"
    }
   ],
   "source": [
    "(stats.randint(1, 7).rvs(10000) <= 3).mean()"
   ]
  },
  {
   "cell_type": "code",
   "execution_count": 38,
   "id": "6d24f10e-c30f-4cd4-b140-ec721f60ec3d",
   "metadata": {},
   "outputs": [
    {
     "data": {
      "text/plain": [
       "0.5"
      ]
     },
     "execution_count": 38,
     "metadata": {},
     "output_type": "execute_result"
    }
   ],
   "source": [
    "stats.randint(1, 7).cdf(3)"
   ]
  },
  {
   "cell_type": "markdown",
   "id": "7847a966-1ade-4b62-b82f-80a627f6e126",
   "metadata": {},
   "source": [
    "What's the likelihood we roll greater than a 4?"
   ]
  },
  {
   "cell_type": "code",
   "execution_count": 39,
   "id": "e7ec25fc-f56c-47fc-a63c-44bc10541f42",
   "metadata": {},
   "outputs": [
    {
     "data": {
      "text/plain": [
       "0.33333333333333337"
      ]
     },
     "execution_count": 39,
     "metadata": {},
     "output_type": "execute_result"
    }
   ],
   "source": [
    "stats.randint(1, 7).sf(4)"
   ]
  },
  {
   "cell_type": "markdown",
   "id": "52539987-d3c3-4e65-918a-ff8ccb5edd63",
   "metadata": {},
   "source": [
    "**Given a probability, what's the value?**"
   ]
  },
  {
   "cell_type": "markdown",
   "id": "69499552-a93e-4bdc-8186-0d2637e334c8",
   "metadata": {},
   "source": [
    "There's a 50% chance we roll less than or equal to what number?"
   ]
  },
  {
   "cell_type": "code",
   "execution_count": 40,
   "id": "d6c76891-0c5d-4fa7-a176-388d421fbf7c",
   "metadata": {},
   "outputs": [
    {
     "data": {
      "text/plain": [
       "3.0"
      ]
     },
     "execution_count": 40,
     "metadata": {},
     "output_type": "execute_result"
    }
   ],
   "source": [
    "stats.randint(1, 7).ppf(.5)"
   ]
  },
  {
   "cell_type": "markdown",
   "id": "41f69759-5657-4a91-b4cc-a2dd2e746df9",
   "metadata": {},
   "source": [
    "There's a 1 / 6 chance we roll higher than what number?"
   ]
  },
  {
   "cell_type": "code",
   "execution_count": 41,
   "id": "854239e0-a593-439c-a736-9dde1af3c9e1",
   "metadata": {},
   "outputs": [
    {
     "data": {
      "text/plain": [
       "5.0"
      ]
     },
     "execution_count": 41,
     "metadata": {},
     "output_type": "execute_result"
    }
   ],
   "source": [
    "stats.randint(1, 7).isf(1/6)"
   ]
  },
  {
   "cell_type": "markdown",
   "id": "01887fee-7154-490a-bc91-5976ce25c2c9",
   "metadata": {},
   "source": [
    "What's the likelihood we roll less than a 5?\n",
    "\n",
    "less than or equal to 4 == less than 5"
   ]
  },
  {
   "cell_type": "code",
   "execution_count": 42,
   "id": "92a16158-e782-4c73-9aca-4db96c653c5a",
   "metadata": {},
   "outputs": [
    {
     "data": {
      "text/plain": [
       "0.6666666666666666"
      ]
     },
     "execution_count": 42,
     "metadata": {},
     "output_type": "execute_result"
    }
   ],
   "source": [
    "stats.randint(1, 7).cdf(4)"
   ]
  },
  {
   "cell_type": "markdown",
   "id": "04a82a02-f16b-4ee4-a82b-03d536459869",
   "metadata": {},
   "source": [
    "## Distributions\n",
    "\n",
    "- uniform\n",
    "- binomial: number of sucesses after n trials\n",
    "    - \"success\": however we define\n",
    "    - n: number of trials\n",
    "    - p: P(success)\n",
    "    - outcome is 0 or a postive integer number\n",
    "- normal: continuous outcome, \"bell curve\"\n",
    "    - values closer to the midpoint are more likely\n",
    "    - values further away are less likely\n",
    "    - mean: the midpoint\n",
    "    - standard deviation: how \"spread out\"\n",
    "- poisson\n",
    "    - a number of events over some specified time interval\n",
    "    - lambda, or k: average rate over time"
   ]
  },
  {
   "cell_type": "code",
   "execution_count": 44,
   "id": "8d36baf4-5648-401a-bf4b-e7f4239a6562",
   "metadata": {},
   "outputs": [
    {
     "data": {
      "image/png": "[encoded data removed]",
      "text/plain": [
       "<Figure size 640x480 with 1 Axes>"
      ]
     },
     "metadata": {},
     "output_type": "display_data"
    }
   ],
   "source": [
    "pd.Series(stats.poisson(4).rvs(1000)).value_counts().sort_index().plot.bar()\n",
    "plt.show()"
   ]
  },
  {
   "cell_type": "markdown",
   "id": "7d8b85b1-0207-481a-b6ad-953380dbf84a",
   "metadata": {},
   "source": [
    "> We know that the average number of messages in the zoom chat during a lecture is 25. During the probability distributions lecture, we observe that 29 chat        messages were sent. How likely is it that we observed 29 chat messages? 29 or fewer? How likely is it we observed 29 or more chat messages?"
   ]
  },
  {
   "cell_type": "code",
   "execution_count": 45,
   "id": "f162f5f7-f1f6-4115-bdd7-b236d8045d7b",
   "metadata": {},
   "outputs": [
    {
     "data": {
      "text/plain": [
       "0.054495342156142663"
      ]
     },
     "execution_count": 45,
     "metadata": {},
     "output_type": "execute_result"
    }
   ],
   "source": [
    "avg_messages_per_lecture = 25\n",
    "\n",
    "stats.poisson(avg_messages_per_lecture).pmf(29)"
   ]
  },
  {
   "cell_type": "code",
   "execution_count": 55,
   "id": "a64893ab-bc2f-433a-8039-217a83ef3afb",
   "metadata": {},
   "outputs": [
    {
     "data": {
      "image/png": "[encoded data removed]",
      "text/plain": [
       "<Figure size 640x480 with 1 Axes>"
      ]
     },
     "metadata": {},
     "output_type": "display_data"
    }
   ],
   "source": [
    "pd.Series(stats.poisson(avg_messages_per_lecture).rvs(10_000)).value_counts().sort_index().plot.bar(width=1, ec='black')\n",
    "plt.title('Poisson representing zoom chats / lecture, avg rate 25 / lecture')\n",
    "plt.ylabel('Frequency')\n",
    "plt.show()"
   ]
  },
  {
   "cell_type": "code",
   "execution_count": 53,
   "id": "c5a8e94f-7cf9-4ef9-8602-69f380ee7216",
   "metadata": {},
   "outputs": [
    {
     "data": {
      "text/plain": [
       "0.8178960840225449"
      ]
     },
     "execution_count": 53,
     "metadata": {},
     "output_type": "execute_result"
    }
   ],
   "source": [
    "# P(29 or fewer messages)\n",
    "stats.poisson(avg_messages_per_lecture).cdf(29)"
   ]
  },
  {
   "cell_type": "code",
   "execution_count": 54,
   "id": "b84fc70b-6281-40e3-ae59-cf2694ba7bd5",
   "metadata": {},
   "outputs": [
    {
     "data": {
      "text/plain": [
       "0.23659925813359786"
      ]
     },
     "execution_count": 54,
     "metadata": {},
     "output_type": "execute_result"
    }
   ],
   "source": [
    "# P(29 or more messages)\n",
    "# P(29 or more messages) == P(more than 28 messages)\n",
    "stats.poisson(avg_messages_per_lecture).sf(28)"
   ]
  },
  {
   "cell_type": "markdown",
   "id": "caf0399f-c6ad-4fc5-a387-d4f10ac734b7",
   "metadata": {},
   "source": [
    "Suppose the average temperature in February is 70 deg +- 2.7 degrees farenheight. How high would the temperature have to be for us to be in the hottest 10% of all days in Feb?"
   ]
  },
  {
   "cell_type": "code",
   "execution_count": 56,
   "id": "6b7f54f0-da83-4f4b-83fd-2d5985427544",
   "metadata": {},
   "outputs": [
    {
     "data": {
      "text/plain": [
       "73.46018922697043"
      ]
     },
     "execution_count": 56,
     "metadata": {},
     "output_type": "execute_result"
    }
   ],
   "source": [
    "stats.norm(70, 2.7).isf(.1)"
   ]
  },
  {
   "cell_type": "markdown",
   "id": "b2287511-9c68-4183-9485-7dd6ebf0fdca",
   "metadata": {},
   "source": [
    "What would the temperature have to be for us to be in the lowest 25% of days?"
   ]
  },
  {
   "cell_type": "code",
   "execution_count": 57,
   "id": "1dcaa979-70b2-426b-8672-03f0b62cf8c5",
   "metadata": {},
   "outputs": [
    {
     "data": {
      "text/plain": [
       "68.17887767447058"
      ]
     },
     "execution_count": 57,
     "metadata": {},
     "output_type": "execute_result"
    }
   ],
   "source": [
    "stats.norm(70, 2.7).ppf(.25)"
   ]
  },
  {
   "cell_type": "markdown",
   "id": "10ec95c4-221e-49fa-8941-fc6546ba1573",
   "metadata": {},
   "source": [
    "How likely is it that the temperature breaks 80?"
   ]
  },
  {
   "cell_type": "code",
   "execution_count": 59,
   "id": "ccdb5f7a-ed51-44b4-9a7f-ce7ade19af50",
   "metadata": {},
   "outputs": [
    {
     "data": {
      "text/plain": [
       "0.00010623720744981464"
      ]
     },
     "execution_count": 59,
     "metadata": {},
     "output_type": "execute_result"
    }
   ],
   "source": [
    "stats.norm(70, 2.7).sf(80)"
   ]
  },
  {
   "cell_type": "markdown",
   "id": "cfcdebc1-06d1-4423-8d58-8754080a39a5",
   "metadata": {},
   "source": [
    "Suppose our marketing department started a new email campaign. We know that for all time, for all email campaigns, we've sent 10,412 emails, and 2,598 have been opened. For this campaign, 160 of 668 emails were opened. How likely is this given our historical open rate?"
   ]
  },
  {
   "cell_type": "code",
   "execution_count": 61,
   "id": "95849575-a1fe-4b74-8bef-a8e15514b347",
   "metadata": {},
   "outputs": [
    {
     "data": {
      "text/plain": [
       "0.2921072896870644"
      ]
     },
     "execution_count": 61,
     "metadata": {},
     "output_type": "execute_result"
    }
   ],
   "source": [
    "p_email_is_opened = 2598 / 10412\n",
    "n_trials = 668\n",
    "\n",
    "stats.binom(n_trials, p_email_is_opened).cdf(160)"
   ]
  },
  {
   "cell_type": "code",
   "execution_count": 62,
   "id": "5c8c819e-8856-4ca7-8dfa-927d89321d85",
   "metadata": {},
   "outputs": [
    {
     "data": {
      "text/plain": [
       "0.7078927103129522"
      ]
     },
     "execution_count": 62,
     "metadata": {},
     "output_type": "execute_result"
    }
   ],
   "source": [
    "stats.binom(n_trials, p_email_is_opened).sf(160)"
   ]
  },
  {
   "cell_type": "code",
   "execution_count": 69,
   "id": "5e4034e2-d912-41ad-bfcf-bda1f49e76fe",
   "metadata": {},
   "outputs": [
    {
     "data": {
      "image/png": "[encoded data removed]",
      "text/plain": [
       "<Figure size 1200x500 with 1 Axes>"
      ]
     },
     "metadata": {},
     "output_type": "display_data"
    }
   ],
   "source": [
    "ax = pd.Series(stats.binom(n_trials, p_email_is_opened).rvs(10_000)).value_counts().sort_index().plot.bar(figsize=(12, 5), width=1, ec='black')\n",
    "plt.show()"
   ]
  }
 ],
 "metadata": {
  "kernelspec": {
   "display_name": "Python 3",
   "language": "python",
   "name": "python3"
  },
  "language_info": {
   "codemirror_mode": {
    "name": "ipython",
    "version": 3
   },
   "file_extension": ".py",
   "mimetype": "text/x-python",
   "name": "python",
   "nbconvert_exporter": "python",
   "pygments_lexer": "ipython3",
   "version": "3.8.8"
  }
 },
 "nbformat": 4,
 "nbformat_minor": 5
}
