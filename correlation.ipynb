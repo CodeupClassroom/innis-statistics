{
 "cells": [
  {
   "cell_type": "markdown",
   "metadata": {},
   "source": [
    "# Hypothesis Testing: Correlation"
   ]
  },
  {
   "cell_type": "code",
   "execution_count": null,
   "metadata": {},
   "outputs": [],
   "source": [
    "%matplotlib inline\n",
    "from math import sqrt\n",
    "\n",
    "import numpy as np\n",
    "import pandas as pd\n",
    "import scipy.stats as stats\n",
    "import matplotlib.pyplot as plt\n",
    "import seaborn as sns\n",
    "\n",
    "import correlation_lesson_util\n",
    "\n",
    "plt.ion()\n",
    "plt.rc('figure', figsize=(13, 7))"
   ]
  },
  {
   "cell_type": "markdown",
   "metadata": {},
   "source": [
    "## Hypothesis Testing Review / Recap"
   ]
  },
  {
   "cell_type": "markdown",
   "metadata": {},
   "source": [
    "### Limits of Hypothesis Testing\n",
    "\n",
    "- Hypothesis provides statistical evidence to tell us whether the results we are seeing are due to chance\n",
    "- Very important for, e.g., RCTs w/ a small n\n",
    "- With a large n, almost everything is statistically significant\n",
    "- Provides guidance for borderline cases\n",
    "- Doesn't say anything about effect size\n",
    "- **Never** do stats testing in isolation, it's a supporting piece of evidence, but must be combined w/ other analysis and viz to support business intelligence"
   ]
  },
  {
   "cell_type": "markdown",
   "metadata": {},
   "source": [
    "### Hypothesis Testing Simulation Based Demo\n",
    "\n",
    "- What is a probability? A frequency\n",
    "- probabilities tell us what % of possible universes contain that outcome\n",
    "- what's a p-value? P(data | H0) (or more extreme data)\n",
    "- what are simulations? a way to calculate probability\n",
    "- simulations represent one universe in the multiverse\n",
    "\n",
    "Let's say we have 2 groups: virtual students and in-person students and we want to examine their scores on the stortelling project. If it truly is the case that there is no difference between these groups, how likely is it that we observe one?"
   ]
  },
  {
   "cell_type": "code",
   "execution_count": null,
   "metadata": {},
   "outputs": [],
   "source": [
    "df = correlation_lesson_util.viz_ttest_h0_is_true()\n",
    "df.head()"
   ]
  },
  {
   "cell_type": "code",
   "execution_count": null,
   "metadata": {},
   "outputs": [],
   "source": [
    "n_sims = 1000\n",
    "simulation_results = []\n",
    "\n",
    "for _ in range(n_sims):\n",
    "    sample = df.sample(25)\n",
    "    virtual_students = sample[sample.student_type == 'Virtual']\n",
    "    in_person_students = sample[sample.student_type == 'In-Person']\n",
    "    h_test_results = stats.ttest_ind(virtual_students.grade, in_person_students.grade)\n",
    "    simulation_results.append(h_test_results)\n",
    "\n",
    "(pd.DataFrame(simulation_results).pvalue < .05).mean()"
   ]
  },
  {
   "cell_type": "code",
   "execution_count": null,
   "metadata": {},
   "outputs": [],
   "source": [
    "df = correlation_lesson_util.viz_ttest_h0_is_false()\n",
    "df.head()"
   ]
  },
  {
   "cell_type": "code",
   "execution_count": null,
   "metadata": {},
   "outputs": [],
   "source": [
    "n_sims = 1000\n",
    "simulation_results = []\n",
    "\n",
    "for _ in range(n_sims):\n",
    "    sample = df.sample(25)\n",
    "    virtual_students = sample[sample.student_type == 'Virtual']\n",
    "    in_person_students = sample[sample.student_type == 'In-Person']\n",
    "    h_test_results = stats.ttest_ind(virtual_students.grade, in_person_students.grade)\n",
    "    simulation_results.append(h_test_results)\n",
    "\n",
    "(pd.DataFrame(simulation_results).pvalue < .05).mean()"
   ]
  },
  {
   "cell_type": "markdown",
   "metadata": {},
   "source": [
    "https://xkcd.com/882/"
   ]
  },
  {
   "cell_type": "markdown",
   "metadata": {},
   "source": [
    "## Comparing 2 Continuous Variables: Correlation\n",
    "\n",
    "- Pearson's correlation coefficient or **Pearson's r** is the test statistic we get from a correlation test\n",
    "- For discrete or non-normal data: Spearman's rank correlation\n",
    "- Compares 2 continuous variables\n",
    "- Unitless; tells us how much two variables tend to move together\n",
    "- $H_0$: there is no linear relationship between the two variables"
   ]
  },
  {
   "cell_type": "code",
   "execution_count": null,
   "metadata": {},
   "outputs": [],
   "source": [
    "url = \"https://gist.githubusercontent.com/ryanorsinger/2c13a71421037af127e9fa7fa1463cad/raw/3eb443414078b51af33fdb2d211159e5f3e220ab/exam_scores.csv\"\n",
    "df = pd.read_csv(url)\n",
    "df.head()"
   ]
  },
  {
   "cell_type": "markdown",
   "metadata": {},
   "source": [
    "## Example Test"
   ]
  },
  {
   "cell_type": "markdown",
   "metadata": {},
   "source": [
    "What's the relationship between exam score and hours studied?"
   ]
  },
  {
   "cell_type": "code",
   "execution_count": null,
   "metadata": {},
   "outputs": [],
   "source": [
    "df.plot.scatter(y='exam_score', x='hours_studied')"
   ]
  },
  {
   "cell_type": "markdown",
   "metadata": {},
   "source": [
    "Abbreviated Hypothesis Testing Procedure:\n",
    "\n",
    "1. Setup\n",
    "2. Calculate test statistic + p-value\n",
    "3. Conclude"
   ]
  },
  {
   "cell_type": "markdown",
   "metadata": {},
   "source": [
    "- $\\alpha = .05$\n",
    "- $H_0$: There is no linear relationship between exam score and number of hours studied.\n",
    "- $H_a$: There is a linear relationship between exam score and number of hours studied."
   ]
  },
  {
   "cell_type": "code",
   "execution_count": null,
   "metadata": {},
   "outputs": [],
   "source": [
    "x = df.hours_studied\n",
    "y = df.exam_score"
   ]
  },
  {
   "cell_type": "code",
   "execution_count": null,
   "metadata": {},
   "outputs": [],
   "source": [
    "r, p = stats.pearsonr(x, y)\n",
    "print('r =', r)\n",
    "print('p =', p)"
   ]
  },
  {
   "cell_type": "markdown",
   "metadata": {},
   "source": [
    "Conclusion: we reject the null hypothesis that there is no linear relationship between exam score and number of hours studied."
   ]
  },
  {
   "cell_type": "markdown",
   "metadata": {},
   "source": [
    "## Examples of Different Correlations"
   ]
  },
  {
   "cell_type": "code",
   "execution_count": null,
   "metadata": {},
   "outputs": [],
   "source": [
    "x = [1, 2, 3]\n",
    "y = [4, 5, 6]\n",
    "\n",
    "plt.plot(x, y, marker='o')\n",
    "plt.title('Perfect positive correlation, (r=1)')"
   ]
  },
  {
   "cell_type": "code",
   "execution_count": null,
   "metadata": {},
   "outputs": [],
   "source": [
    "x = [3, 2, 1]\n",
    "y = [1, 2, 3]\n",
    "\n",
    "plt.plot(x, y, marker='o')\n",
    "plt.title('Perfect negative correlation (r=-1)')"
   ]
  },
  {
   "cell_type": "code",
   "execution_count": null,
   "metadata": {},
   "outputs": [],
   "source": [
    "x = [1, 2, 3]\n",
    "y = [1, 1, 1]\n",
    "\n",
    "plt.plot(x, y, marker='o')\n",
    "plt.title('Absolutely no correlation (r=0)')"
   ]
  },
  {
   "cell_type": "code",
   "execution_count": null,
   "metadata": {},
   "outputs": [],
   "source": [
    "x = np.random.randn(100)\n",
    "y = np.random.randn(100)\n",
    "\n",
    "r, p = stats.pearsonr(x, y)\n",
    "\n",
    "plt.scatter(x, y)\n",
    "plt.title(r'no correlation, ($r \\approx 0$)', size=16)\n",
    "plt.text(plt.xlim()[-1] - .25, plt.ylim()[-1] - .25, f'{r=:.4}\\n{p=:.4}', ha='right', va='top')"
   ]
  },
  {
   "cell_type": "code",
   "execution_count": null,
   "metadata": {},
   "outputs": [],
   "source": [
    "x = np.random.randn(100)\n",
    "y = x + (np.random.randn(100) * 1.1)\n",
    "\n",
    "r, p = stats.pearsonr(x, y)\n",
    "\n",
    "plt.scatter(x, y)\n",
    "plt.title('Positive Correlation')\n",
    "plt.text(plt.xlim()[-1] - .25, plt.ylim()[-1] - .25, f'{r=:.4}\\n{p=:.4f}', ha='right', va='top')"
   ]
  },
  {
   "cell_type": "code",
   "execution_count": null,
   "metadata": {},
   "outputs": [],
   "source": [
    "x = np.random.randn(100)\n",
    "y = -x + (np.random.randn(100) * 1.1)\n",
    "\n",
    "r, p = stats.pearsonr(x, y)\n",
    "\n",
    "plt.scatter(x, y)\n",
    "plt.title('Negative Correlation')\n",
    "plt.text(plt.xlim()[-1] - .25, plt.ylim()[-1] - .25, f'{r=:.4}\\n{p=:.4f}', ha='right', va='top')"
   ]
  },
  {
   "cell_type": "markdown",
   "metadata": {},
   "source": [
    "## Correlation \"gotchas\"\n",
    "\n",
    "When looking at correlation, keep in mind:\n",
    "\n",
    "1. [Correlation is not causation!](https://xkcd.com/552/) It could be something else or alltogether spurious.\n",
    "1. This is just looking at a linear relationships\n",
    "1. Correlation itself just looks 2 variables, there could be more going on\n",
    "1. Correlation doesn't tell us how large the relationship is"
   ]
  },
  {
   "cell_type": "markdown",
   "metadata": {},
   "source": [
    "### Example: non-linear relationship"
   ]
  },
  {
   "cell_type": "code",
   "execution_count": null,
   "metadata": {},
   "outputs": [],
   "source": [
    "x = np.linspace(-3, 3)\n",
    "y = x ** 2\n",
    "\n",
    "r, p = stats.pearsonr(x, y)\n",
    "\n",
    "plt.scatter(x, y)\n",
    "plt.text(0, 8, f'{r=:.4f}\\n{p=:.4f}')"
   ]
  },
  {
   "cell_type": "markdown",
   "metadata": {},
   "source": [
    "### Example: confounding variable"
   ]
  },
  {
   "cell_type": "code",
   "execution_count": null,
   "metadata": {},
   "outputs": [],
   "source": [
    "df.plot.scatter(y='exam_score', x='coffee_consumed')\n",
    "\n",
    "r, p = stats.pearsonr(df.exam_score, df.coffee_consumed)\n",
    "print('r=', r)"
   ]
  },
  {
   "cell_type": "code",
   "execution_count": null,
   "metadata": {},
   "outputs": [],
   "source": [
    "r, p = stats.pearsonr(df.coffee_consumed, df.hours_slept)\n",
    "df.plot.scatter(y='coffee_consumed', x='hours_slept')\n",
    "print('p=', p)\n",
    "print('r=', r)"
   ]
  },
  {
   "cell_type": "markdown",
   "metadata": {},
   "source": [
    "### Example: relationship magnitude"
   ]
  },
  {
   "cell_type": "code",
   "execution_count": null,
   "metadata": {},
   "outputs": [],
   "source": [
    "coffee_consumption = [0, 1, 2, 3, 4]\n",
    "exam_score = [80, 80.1, 80.2, 80.3, 80.4]\n",
    "\n",
    "r, p = stats.pearsonr(coffee_consumption, exam_score)\n",
    "\n",
    "plt.plot(coffee_consumption, exam_score, marker='o')\n",
    "plt.ylim(0, 100)\n",
    "print('r=', r)"
   ]
  },
  {
   "cell_type": "markdown",
   "metadata": {},
   "source": [
    "## Exercise Guidance\n",
    "\n",
    "What does it mean to \"control for\"?"
   ]
  },
  {
   "cell_type": "code",
   "execution_count": null,
   "metadata": {},
   "outputs": [],
   "source": [
    "df.head()"
   ]
  },
  {
   "cell_type": "code",
   "execution_count": null,
   "metadata": {},
   "outputs": [],
   "source": [
    "df.plot.scatter(y='exam_score', x='hours_studied')"
   ]
  },
  {
   "cell_type": "markdown",
   "metadata": {},
   "source": [
    "What if want to control for handedness?"
   ]
  },
  {
   "cell_type": "code",
   "execution_count": null,
   "metadata": {},
   "outputs": [],
   "source": [
    "sns.relplot(data=df, y='exam_score', x='hours_studied', col='handedness')"
   ]
  },
  {
   "cell_type": "code",
   "execution_count": null,
   "metadata": {},
   "outputs": [],
   "source": [
    "lefties = df[df.handedness == 'left']\n",
    "righties = df[df.handedness == 'right']"
   ]
  },
  {
   "cell_type": "code",
   "execution_count": null,
   "metadata": {},
   "outputs": [],
   "source": [
    "r, p = stats.pearsonr(lefties.exam_score, lefties.hours_studied)\n",
    "print('Lefties')\n",
    "print('  r =', r)\n",
    "print('  p =', p)"
   ]
  },
  {
   "cell_type": "code",
   "execution_count": null,
   "metadata": {},
   "outputs": [],
   "source": [
    "r, p = stats.pearsonr(righties.exam_score, righties.hours_studied)\n",
    "print('Righties')\n",
    "print('  r =', r)\n",
    "print('  p =', p)"
   ]
  },
  {
   "cell_type": "markdown",
   "metadata": {},
   "source": [
    "## Correlation Simulation Demo"
   ]
  },
  {
   "cell_type": "code",
   "execution_count": null,
   "metadata": {},
   "outputs": [],
   "source": [
    "df = correlation_lesson_util.viz_pearson_h0_is_true()\n",
    "df.head()"
   ]
  },
  {
   "cell_type": "code",
   "execution_count": null,
   "metadata": {},
   "outputs": [],
   "source": [
    "simulations = []\n",
    "for _ in range(1000):\n",
    "    sample = df.sample(20)\n",
    "    simulations.append(stats.pearsonr(sample.x, sample.y))\n",
    "(pd.DataFrame(simulations, columns=['r', 'p']).sort_values(by='p').p < .05).mean()"
   ]
  },
  {
   "cell_type": "code",
   "execution_count": null,
   "metadata": {},
   "outputs": [],
   "source": [
    "df = correlation_lesson_util.viz_pearson_h0_is_false()\n",
    "df.head()"
   ]
  },
  {
   "cell_type": "code",
   "execution_count": null,
   "metadata": {},
   "outputs": [],
   "source": [
    "simulations = []\n",
    "for _ in range(1000):\n",
    "    sample = df.sample(20)\n",
    "    simulations.append(stats.pearsonr(sample.x, sample.y))\n",
    "(pd.DataFrame(simulations, columns=['r', 'p']).sort_values(by='p').p < .05).mean()"
   ]
  }
 ],
 "metadata": {
  "kernelspec": {
   "display_name": "Python 3",
   "language": "python",
   "name": "python3"
  },
  "language_info": {
   "codemirror_mode": {
    "name": "ipython",
    "version": 3
   },
   "file_extension": ".py",
   "mimetype": "text/x-python",
   "name": "python",
   "nbconvert_exporter": "python",
   "pygments_lexer": "ipython3",
   "version": "3.8.8"
  }
 },
 "nbformat": 4,
 "nbformat_minor": 4
}
