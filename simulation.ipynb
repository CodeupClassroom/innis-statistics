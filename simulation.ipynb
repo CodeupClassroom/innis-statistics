{
 "cells": [
  {
   "cell_type": "markdown",
   "id": "66d664e4-b6bd-456d-ad33-70c3ab7e31d3",
   "metadata": {},
   "source": [
    "# Statistics and Simulation"
   ]
  },
  {
   "cell_type": "markdown",
   "id": "ae0107c7-9483-422c-99de-d74b65634d4c",
   "metadata": {},
   "source": [
    "> How likely is it that I get 2 or more heads after flipping 3 coins?"
   ]
  },
  {
   "cell_type": "code",
   "execution_count": 259,
   "id": "d41dcf4c-14f2-42fa-9591-832af416967f",
   "metadata": {},
   "outputs": [],
   "source": [
    "import pandas as pd"
   ]
  },
  {
   "cell_type": "code",
   "execution_count": 39,
   "id": "450956be-c556-40ba-9ee6-385d9674e66f",
   "metadata": {},
   "outputs": [],
   "source": [
    "import random as r\n",
    "\n",
    "results = []\n",
    "for n in range(1000):\n",
    "    coin_flips = r.choice(['Heads', 'Tails']), r.choice(['Heads', 'Tails']), r.choice(['Heads', 'Tails'])\n",
    "    # print(coin_flips)\n",
    "    n_heads = 0\n",
    "    for flip in coin_flips:\n",
    "        if flip == 'Heads':\n",
    "            n_heads += 1\n",
    "    results.append(n_heads)"
   ]
  },
  {
   "cell_type": "code",
   "execution_count": 37,
   "id": "79936b68-88b3-42ec-aa7d-21a1012f9b41",
   "metadata": {},
   "outputs": [
    {
     "data": {
      "text/plain": [
       "0.498"
      ]
     },
     "execution_count": 37,
     "metadata": {},
     "output_type": "execute_result"
    }
   ],
   "source": [
    "two_or_more_heads = [1 if r >= 2 else 0 for r in results]\n",
    "sum(two_or_more_heads) / len(two_or_more_heads)"
   ]
  },
  {
   "cell_type": "code",
   "execution_count": 68,
   "id": "0cfd547a-dc19-453f-822f-50a0c62c9fb7",
   "metadata": {},
   "outputs": [],
   "source": [
    "import numpy as np\n",
    "\n",
    "simulations = np.random.choice([1, 0], size=(3000)).reshape(1000, 3)\n",
    "n_heads_per_simulation = simulations.sum(axis=1)\n",
    "we_got_2_or_more_heads = n_heads_per_simulation >= 2\n",
    "we_got_2_or_more_heads.mean()"
   ]
  },
  {
   "cell_type": "code",
   "execution_count": 70,
   "id": "8d31f308-40cf-4ca8-a4cd-873954de46d3",
   "metadata": {},
   "outputs": [
    {
     "data": {
      "text/plain": [
       "array([[0, 0, 0],\n",
       "       [0, 0, 1],\n",
       "       [1, 1, 0],\n",
       "       [1, 0, 0],\n",
       "       [0, 1, 1],\n",
       "       [1, 0, 1]])"
      ]
     },
     "execution_count": 70,
     "metadata": {},
     "output_type": "execute_result"
    }
   ],
   "source": [
    "simulations = np.random.choice([1, 0], size=(18)).reshape(6, 3)\n",
    "simulations"
   ]
  },
  {
   "cell_type": "code",
   "execution_count": 72,
   "id": "1cf90f26-ac29-4074-a1dc-6a90b615da15",
   "metadata": {},
   "outputs": [
    {
     "data": {
      "text/plain": [
       "array([0, 1, 2, 1, 2, 2])"
      ]
     },
     "execution_count": 72,
     "metadata": {},
     "output_type": "execute_result"
    }
   ],
   "source": [
    "n_heads_per_simulation = simulations.sum(axis=1)\n",
    "n_heads_per_simulation"
   ]
  },
  {
   "cell_type": "code",
   "execution_count": 73,
   "id": "c0df4675-0f40-41cd-a60d-f6ff92d551eb",
   "metadata": {},
   "outputs": [
    {
     "data": {
      "text/plain": [
       "array([False, False,  True, False,  True,  True])"
      ]
     },
     "execution_count": 73,
     "metadata": {},
     "output_type": "execute_result"
    }
   ],
   "source": [
    "we_got_2_or_more_heads = n_heads_per_simulation >= 2\n",
    "we_got_2_or_more_heads"
   ]
  },
  {
   "cell_type": "code",
   "execution_count": 74,
   "id": "d781aac4-c5c9-48f7-9563-975a251b7920",
   "metadata": {},
   "outputs": [
    {
     "data": {
      "text/plain": [
       "0.5"
      ]
     },
     "execution_count": 74,
     "metadata": {},
     "output_type": "execute_result"
    }
   ],
   "source": [
    "we_got_2_or_more_heads.mean()"
   ]
  },
  {
   "cell_type": "markdown",
   "id": "11d9015b-d893-4f1a-b30d-2d5ed74e31a0",
   "metadata": {},
   "source": [
    "How to do simulation in python:\n",
    "\n",
    "1. Figure out how to represent your data (1 = heads, 0 = tails)\n",
    "1. Create a matrix of random numbers, rows represent simulations (one go-through of the experiment), columns represent trials (one event within the experiment, in our case, 1 coin flip)\n",
    "1. Apply an aggregation row-wise to summarize each simulation (sum for the total number of heads)\n",
    "1. Apply an aggregation to the resulting 1-d array to come up with a experimental probability (>= 2 heads, mean)"
   ]
  },
  {
   "cell_type": "markdown",
   "id": "1429225a-31a2-4025-90e0-bc6e4a1f588c",
   "metadata": {},
   "source": [
    "[More on random number generation][1]\n",
    "\n",
    "[1]: https://en.wikipedia.org/wiki/Pseudorandom_number_generator"
   ]
  },
  {
   "cell_type": "markdown",
   "id": "99543e18-2963-4380-b389-e00a793fc5e6",
   "metadata": {},
   "source": [
    "> You are at a carnival and come across a person in a booth offering you a game of \"chance\" (as people in booths at carnivals tend to do).\n",
    "> \n",
    "> You pay 5 dollars and roll 3 dice. If the sum of the dice rolls is greater than 12, you get 15 dollars. If it's less than or equal to 12, you get nothing.\n",
    "> \n",
    "> Assuming the dice are fair, should you play this game? How would this change if the winning condition was a sum greater than or equal to 12?"
   ]
  },
  {
   "cell_type": "code",
   "execution_count": 134,
   "id": "452f8dc0-8ae1-4329-a2d4-af14fd7d1a1f",
   "metadata": {},
   "outputs": [
    {
     "data": {
      "text/plain": [
       "0.261"
      ]
     },
     "execution_count": 134,
     "metadata": {},
     "output_type": "execute_result"
    }
   ],
   "source": [
    "n_trials = 3\n",
    "n_simulations = 10_000\n",
    "\n",
    "# (np.random.randint(1, 7, size=(n_simulations, n_trials)).sum(axis=1) > 12).mean()\n",
    "dice_rolls = np.random.randint(1, 7, size=(n_simulations, n_trials))\n",
    "sum_of_3_dice_rolls = dice_rolls.sum(axis=1)\n",
    "did_we_win = sum_of_3_dice_rolls > 12\n",
    "did_we_win.mean()"
   ]
  },
  {
   "cell_type": "code",
   "execution_count": 137,
   "id": "9e1a472e-14d7-441c-ab43-6ba5abf8e960",
   "metadata": {},
   "outputs": [
    {
     "data": {
      "text/plain": [
       "-10850"
      ]
     },
     "execution_count": 137,
     "metadata": {},
     "output_type": "execute_result"
    }
   ],
   "source": [
    "np.where(did_we_win, 10, -5).sum()"
   ]
  },
  {
   "cell_type": "code",
   "execution_count": 144,
   "id": "46e03062-809b-4e14-9848-9725d891eb75",
   "metadata": {},
   "outputs": [
    {
     "data": {
      "text/plain": [
       "5560"
      ]
     },
     "execution_count": 144,
     "metadata": {},
     "output_type": "execute_result"
    }
   ],
   "source": [
    "n_trials = 3\n",
    "n_simulations = 10_000\n",
    "\n",
    "# (np.random.randint(1, 7, size=(n_simulations, n_trials)).sum(axis=1) > 12).mean()\n",
    "dice_rolls = np.random.randint(1, 7, size=(n_simulations, n_trials))\n",
    "sum_of_3_dice_rolls = dice_rolls.sum(axis=1)\n",
    "did_we_win = sum_of_3_dice_rolls >= 12\n",
    "winnings = np.where(did_we_win, 10, -5).sum()\n",
    "winnings"
   ]
  },
  {
   "cell_type": "markdown",
   "id": "16ceb243-23e9-4dcf-826f-a7ea7c0f0cfd",
   "metadata": {},
   "source": [
    "> There's a 30% chance my son takes a nap on any given weekend day. What is the chance that he takes a nap at least one day this weekend? What is the probability that he doesn't nap at all?"
   ]
  },
  {
   "cell_type": "code",
   "execution_count": 215,
   "id": "5721396d-5087-40a2-9908-3ad5b2c5a003",
   "metadata": {},
   "outputs": [
    {
     "data": {
      "text/plain": [
       "array([[0.15686377, 0.52015389, 0.65199171],\n",
       "       [0.59709158, 0.2178845 , 0.38744016]])"
      ]
     },
     "execution_count": 215,
     "metadata": {},
     "output_type": "execute_result"
    }
   ],
   "source": [
    "np.random.randn(2, 3) \n",
    "np.random.normal(10, 3, size=(2, 3))\n",
    "\n",
    "np.random.rand(2, 3)\n",
    "np.random.uniform(size=(2, 3))"
   ]
  },
  {
   "cell_type": "code",
   "execution_count": 220,
   "id": "9d8ea4fd-38cb-4e22-ad16-75a36d7debc8",
   "metadata": {},
   "outputs": [
    {
     "data": {
      "text/plain": [
       "0.5137"
      ]
     },
     "execution_count": 220,
     "metadata": {},
     "output_type": "execute_result"
    }
   ],
   "source": [
    "n_trials = 2 # 2 weekend days\n",
    "n_simulations = 10_000 # arbitrary number of sims\n",
    "\n",
    "weekend_nap_sims = np.random.uniform(size=(n_simulations, n_trials)) <= .3\n",
    "n_naps_per_weekend = weekend_nap_sims.sum(axis=1)\n",
    "at_least_one_nap = n_naps_per_weekend >= 1\n",
    "at_least_one_nap.mean()"
   ]
  },
  {
   "cell_type": "code",
   "execution_count": 256,
   "id": "5112d3cf-79f8-4c0c-841d-e38fd9b757dc",
   "metadata": {},
   "outputs": [
    {
     "data": {
      "text/plain": [
       "0.48924"
      ]
     },
     "execution_count": 256,
     "metadata": {},
     "output_type": "execute_result"
    }
   ],
   "source": [
    "n_trials = 2\n",
    "n_simulations = 100_000\n",
    "\n",
    "((np.random.uniform(size=(n_simulations, n_trials)) <= .3).sum(axis=1) == 0).mean()"
   ]
  },
  {
   "cell_type": "code",
   "execution_count": 253,
   "id": "2b75a2d1-c17b-4ef3-9f90-3ebb8eff2cca",
   "metadata": {},
   "outputs": [
    {
     "data": {
      "text/plain": [
       "0.09042"
      ]
     },
     "execution_count": 253,
     "metadata": {},
     "output_type": "execute_result"
    }
   ],
   "source": [
    "((np.random.uniform(size=(n_simulations, n_trials)) <= .3).sum(axis=1) == 2).mean()"
   ]
  },
  {
   "cell_type": "markdown",
   "id": "2f8bc1a8-4810-4a41-a6ab-0d34cfe30e68",
   "metadata": {},
   "source": [
    "> What is the probability of getting at least one 3 in 3 dice rolls?"
   ]
  },
  {
   "cell_type": "code",
   "execution_count": 266,
   "id": "2dfd8ec2-9ce4-45b3-8c13-0338d6c7b1c4",
   "metadata": {},
   "outputs": [
    {
     "data": {
      "text/plain": [
       "0.4194"
      ]
     },
     "execution_count": 266,
     "metadata": {},
     "output_type": "execute_result"
    }
   ],
   "source": [
    "# 1. Figure out how to represent your data (1 = heads, 0 = tails)\n",
    "# a dice roll is a random number between 1 and 6\n",
    "\n",
    "# 2. Create a matrix of random numbers, rows represent simulations cols represent trials\n",
    "rolls = pd.DataFrame(np.random.randint(1, 7, size=(10000, 3)))\n",
    "\n",
    "# 3. Apply an aggregation row-wise to summarize each simulation (sum for the total number of heads)\n",
    "did_we_get_at_least_one_3 = rolls.apply(lambda row: 3 in row.values, axis=1)\n",
    "\n",
    "# 4. Apply an aggregation to the resulting 1-d array to come up with a experimental probability (>= 2 heads, mean)\n",
    "did_we_get_at_least_one_3.mean()"
   ]
  },
  {
   "cell_type": "code",
   "execution_count": 264,
   "id": "5b41a2b5-cfdb-4a12-befa-e4cf368715b9",
   "metadata": {},
   "outputs": [
    {
     "data": {
      "text/plain": [
       "False"
      ]
     },
     "execution_count": 264,
     "metadata": {},
     "output_type": "execute_result"
    }
   ],
   "source": [
    "row = np.array([1, 2, 4])\n",
    "\n",
    "3 in row"
   ]
  },
  {
   "cell_type": "code",
   "execution_count": 276,
   "id": "7731a434-fb3a-40b5-84bd-1845a265a726",
   "metadata": {},
   "outputs": [
    {
     "data": {
      "text/plain": [
       "0.4254"
      ]
     },
     "execution_count": 276,
     "metadata": {},
     "output_type": "execute_result"
    }
   ],
   "source": [
    "# Same problem without a dataframe\n",
    "\n",
    "# 1. Figure out how to represent your data (1 = heads, 0 = tails)\n",
    "# a dice roll is a random number between 1 and 6\n",
    "\n",
    "# 2. Create a matrix of random numbers, rows represent simulations cols represent trials\n",
    "rolls = np.random.randint(1, 7, size=(10000, 3))\n",
    "\n",
    "# 3. Apply an aggregation row-wise to summarize each simulation (sum for the total number of heads)\n",
    "did_we_get_at_least_one_3 = (rolls == 3).sum(axis=1) >= 1\n",
    "\n",
    "# 4. Apply an aggregation to the resulting 1-d array to come up with a experimental probability (>= 2 heads, mean)\n",
    "did_we_get_at_least_one_3.mean()"
   ]
  },
  {
   "cell_type": "markdown",
   "id": "dd263a84-8dfa-49af-8677-32994c1c6206",
   "metadata": {},
   "source": [
    "## Demonstrating the axis= argument"
   ]
  },
  {
   "cell_type": "code",
   "execution_count": 222,
   "id": "b6f8600e-de59-4f24-b314-82c3346440fd",
   "metadata": {},
   "outputs": [
    {
     "data": {
      "text/plain": [
       "array([[5, 3, 4, 5, 5, 6],\n",
       "       [6, 5, 2, 5, 5, 3],\n",
       "       [2, 5, 1, 2, 6, 2]])"
      ]
     },
     "execution_count": 222,
     "metadata": {},
     "output_type": "execute_result"
    }
   ],
   "source": [
    "m = np.random.randint(1, 7, size=(3, 6))\n",
    "m"
   ]
  },
  {
   "cell_type": "code",
   "execution_count": 223,
   "id": "93f70cd3-c7e1-4d56-b83f-a0901b45c8f7",
   "metadata": {},
   "outputs": [
    {
     "data": {
      "text/plain": [
       "72"
      ]
     },
     "execution_count": 223,
     "metadata": {},
     "output_type": "execute_result"
    }
   ],
   "source": [
    "m.sum()"
   ]
  },
  {
   "cell_type": "code",
   "execution_count": 224,
   "id": "c750155f-786c-47f3-99c7-8e92c005fd56",
   "metadata": {},
   "outputs": [
    {
     "data": {
      "text/plain": [
       "array([13, 13,  7, 12, 16, 11])"
      ]
     },
     "execution_count": 224,
     "metadata": {},
     "output_type": "execute_result"
    }
   ],
   "source": [
    "m.sum(axis=0)"
   ]
  },
  {
   "cell_type": "code",
   "execution_count": 225,
   "id": "2f34d4d2-8770-40e6-9278-70e8d6c9c757",
   "metadata": {},
   "outputs": [
    {
     "data": {
      "text/plain": [
       "array([28, 26, 18])"
      ]
     },
     "execution_count": 225,
     "metadata": {},
     "output_type": "execute_result"
    }
   ],
   "source": [
    "m.sum(axis=1)"
   ]
  }
 ],
 "metadata": {
  "kernelspec": {
   "display_name": "Python 3",
   "language": "python",
   "name": "python3"
  },
  "language_info": {
   "codemirror_mode": {
    "name": "ipython",
    "version": 3
   },
   "file_extension": ".py",
   "mimetype": "text/x-python",
   "name": "python",
   "nbconvert_exporter": "python",
   "pygments_lexer": "ipython3",
   "version": "3.8.8"
  }
 },
 "nbformat": 4,
 "nbformat_minor": 5
}
