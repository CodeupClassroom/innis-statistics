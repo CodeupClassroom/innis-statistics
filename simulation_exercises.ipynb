{
 "cells": [
  {
   "cell_type": "code",
   "execution_count": 1,
   "id": "399d7030-b585-44b5-9c58-0bfbec123c0e",
   "metadata": {},
   "outputs": [],
   "source": [
    "import numpy as np\n",
    "import pandas as pd"
   ]
  },
  {
   "cell_type": "code",
   "execution_count": 7,
   "id": "4b0ae2c9-780c-4509-84cf-1b6f6cbd3a07",
   "metadata": {},
   "outputs": [
    {
     "data": {
      "text/plain": [
       "0.1633"
      ]
     },
     "execution_count": 7,
     "metadata": {},
     "output_type": "execute_result"
    }
   ],
   "source": [
    "df = pd.DataFrame()\n",
    "df['roll_one'] = np.random.randint(1, 7, 10_000)\n",
    "df['roll_two'] = np.random.randint(1, 7, 10_000)\n",
    "(df.roll_one == df.roll_two).mean()"
   ]
  },
  {
   "cell_type": "code",
   "execution_count": 15,
   "id": "50572663-6a29-448e-8c1b-99f089ead7d1",
   "metadata": {},
   "outputs": [
    {
     "data": {
      "text/plain": [
       "array([['Heads', 'Tails', 'Heads', ..., 'Heads', 'Heads', 'Heads'],\n",
       "       ['Tails', 'Heads', 'Tails', ..., 'Heads', 'Heads', 'Heads'],\n",
       "       ['Tails', 'Heads', 'Tails', ..., 'Heads', 'Tails', 'Heads'],\n",
       "       ...,\n",
       "       ['Heads', 'Heads', 'Tails', ..., 'Tails', 'Tails', 'Heads'],\n",
       "       ['Tails', 'Heads', 'Tails', ..., 'Heads', 'Heads', 'Tails'],\n",
       "       ['Heads', 'Tails', 'Heads', ..., 'Tails', 'Tails', 'Tails']],\n",
       "      dtype='<U5')"
      ]
     },
     "execution_count": 15,
     "metadata": {},
     "output_type": "execute_result"
    }
   ],
   "source": [
    "nrows = 10_000\n",
    "ncols = 8\n",
    "\n",
    "np.random.choice(['Heads', 'Tails'], size=80_000).reshape(nrows, ncols)"
   ]
  },
  {
   "cell_type": "code",
   "execution_count": 13,
   "id": "ed475ef2-1019-4cf9-bc7a-5ce923a68cf7",
   "metadata": {},
   "outputs": [
    {
     "data": {
      "text/plain": [
       "0.2143"
      ]
     },
     "execution_count": 13,
     "metadata": {},
     "output_type": "execute_result"
    }
   ],
   "source": [
    "flips = np.random.choice(['Heads', 'Tails'], size=(10_000, 8))\n",
    "n_heads = (flips == 'Heads').sum(axis=1)\n",
    "(n_heads == 3).mean()"
   ]
  },
  {
   "cell_type": "code",
   "execution_count": 14,
   "id": "d2072d60-7dd2-49e9-ac88-bfd7c1000330",
   "metadata": {},
   "outputs": [
    {
     "data": {
      "text/plain": [
       "0.6426"
      ]
     },
     "execution_count": 14,
     "metadata": {},
     "output_type": "execute_result"
    }
   ],
   "source": [
    "(n_heads > 3).mean()"
   ]
  },
  {
   "cell_type": "code",
   "execution_count": 43,
   "id": "bcb9bca6-f5d3-4035-a612-46dd12d05ede",
   "metadata": {},
   "outputs": [
    {
     "data": {
      "text/plain": [
       "True"
      ]
     },
     "execution_count": 43,
     "metadata": {},
     "output_type": "execute_result"
    }
   ],
   "source": [
    "1_000 == 1000"
   ]
  },
  {
   "cell_type": "code",
   "execution_count": 40,
   "id": "9ef53a83-2349-4344-a91d-1248db4b3e0e",
   "metadata": {},
   "outputs": [
    {
     "data": {
      "text/plain": [
       "0.06293"
      ]
     },
     "execution_count": 40,
     "metadata": {},
     "output_type": "execute_result"
    }
   ],
   "source": [
    "simulations = np.random.choice(\n",
    "    ['Web Dev', 'Data Science'],\n",
    "    p=[.75, .25],\n",
    "    size=(100_000, 2)\n",
    ")\n",
    "((simulations == 'Data Science').sum(axis=1) == 2).mean()"
   ]
  },
  {
   "cell_type": "code",
   "execution_count": 35,
   "id": "c26ec210-52f3-447f-89cb-81d372aa1851",
   "metadata": {},
   "outputs": [
    {
     "data": {
      "text/plain": [
       "0.06255"
      ]
     },
     "execution_count": 35,
     "metadata": {},
     "output_type": "execute_result"
    }
   ],
   "source": [
    "((np.random.uniform(size=(100_000, 2)) <= .25).sum(axis=1) == 2).mean()"
   ]
  },
  {
   "cell_type": "code",
   "execution_count": 51,
   "id": "0c6af04c-18a0-4c08-8fa2-0e67f58359de",
   "metadata": {},
   "outputs": [
    {
     "data": {
      "text/plain": [
       "0.9354"
      ]
     },
     "execution_count": 51,
     "metadata": {},
     "output_type": "execute_result"
    }
   ],
   "source": [
    "purchases = np.random.normal(3, 1.5, size=(10_000, 4)).round()\n",
    "purchases = np.where(purchases < 0, 0, purchases)\n",
    "(purchases.sum(axis=1) <= 16).mean()"
   ]
  },
  {
   "cell_type": "code",
   "execution_count": 53,
   "id": "12a680df-c606-43af-a99b-cde6815c748e",
   "metadata": {},
   "outputs": [
    {
     "data": {
      "text/plain": [
       "array([1, 1, 1, 1, 1, 1])"
      ]
     },
     "execution_count": 53,
     "metadata": {},
     "output_type": "execute_result"
    }
   ],
   "source": [
    "np.array([1, 1.01, 1.4, 1.5, 1.9, 1.999999]).astype(int)"
   ]
  },
  {
   "cell_type": "code",
   "execution_count": 64,
   "id": "4d6b8284-55c6-4e7c-8fec-74167318e3cc",
   "metadata": {},
   "outputs": [],
   "source": [
    "pd.options.display.max_rows = 50\n",
    "# pd.DataFrame(np.random.rand(10_000, 10_000))"
   ]
  },
  {
   "cell_type": "code",
   "execution_count": 68,
   "id": "2296f521-2dec-4ded-8452-146a7911290b",
   "metadata": {},
   "outputs": [
    {
     "data": {
      "text/plain": [
       "0.2038"
      ]
     },
     "execution_count": 68,
     "metadata": {},
     "output_type": "execute_result"
    }
   ],
   "source": [
    "mens_heights = np.random.normal(178, 8, 10_000)\n",
    "womens_heights = np.random.normal(170, 6, 10_000)\n",
    "\n",
    "(womens_heights > mens_heights).mean()"
   ]
  },
  {
   "cell_type": "code",
   "execution_count": 87,
   "id": "bc9a12d9-afbb-4dad-9d68-86a629b52272",
   "metadata": {},
   "outputs": [
    {
     "data": {
      "text/plain": [
       "0.8213"
      ]
     },
     "execution_count": 87,
     "metadata": {},
     "output_type": "execute_result"
    }
   ],
   "source": [
    "# True == corrupted download\n",
    "n_students = 50\n",
    "simulations = np.random.choice(\n",
    "    [True, False],\n",
    "    p=[1/250, 249/250],\n",
    "    size=(10_000, n_students)\n",
    ")\n",
    "1 - simulations.any(axis=1).mean()"
   ]
  },
  {
   "cell_type": "code",
   "execution_count": 88,
   "id": "aff7563e-c542-42dc-acc3-9378886513cd",
   "metadata": {},
   "outputs": [
    {
     "data": {
      "text/plain": [
       "0.6644"
      ]
     },
     "execution_count": 88,
     "metadata": {},
     "output_type": "execute_result"
    }
   ],
   "source": [
    "# True == corrupted download\n",
    "n_students = 100\n",
    "simulations = np.random.choice(\n",
    "    [True, False],\n",
    "    p=[1/250, 249/250],\n",
    "    size=(10_000, n_students)\n",
    ")\n",
    "1 - simulations.any(axis=1).mean()"
   ]
  },
  {
   "cell_type": "code",
   "execution_count": 89,
   "id": "741f7419-97b3-4a9c-a5fb-376392066282",
   "metadata": {},
   "outputs": [
    {
     "data": {
      "text/plain": [
       "0.4508"
      ]
     },
     "execution_count": 89,
     "metadata": {},
     "output_type": "execute_result"
    }
   ],
   "source": [
    "# True == corrupted download\n",
    "n_students = 150\n",
    "simulations = np.random.choice(\n",
    "    [True, False],\n",
    "    p=[1/250, 249/250],\n",
    "    size=(10_000, n_students)\n",
    ")\n",
    "simulations.any(axis=1).mean()"
   ]
  },
  {
   "cell_type": "code",
   "execution_count": 90,
   "id": "0085a021-936d-41cc-928a-360406c69cd0",
   "metadata": {},
   "outputs": [
    {
     "data": {
      "text/plain": [
       "0.1646"
      ]
     },
     "execution_count": 90,
     "metadata": {},
     "output_type": "execute_result"
    }
   ],
   "source": [
    "# True == corrupted download\n",
    "n_students = 450\n",
    "simulations = np.random.choice(\n",
    "    [True, False],\n",
    "    p=[1/250, 249/250],\n",
    "    size=(10_000, n_students)\n",
    ")\n",
    "(simulations.sum(axis=1) == 0).mean()"
   ]
  },
  {
   "cell_type": "code",
   "execution_count": 100,
   "id": "5431d4e6-7cd2-40d5-9ed3-7f6dbd68f123",
   "metadata": {},
   "outputs": [
    {
     "data": {
      "text/plain": [
       "0.7003"
      ]
     },
     "execution_count": 100,
     "metadata": {},
     "output_type": "execute_result"
    }
   ],
   "source": [
    "# True == corrupted download\n",
    "n_students = 300\n",
    "simulations = np.random.choice(\n",
    "    [True, False],\n",
    "    p=[1/250, 249/250],\n",
    "    size=(10_000, n_students)\n",
    ")\n",
    "simulations.any(axis=1).mean()"
   ]
  },
  {
   "cell_type": "code",
   "execution_count": 120,
   "id": "8c3972a1-b46d-4206-a8b0-538e8322917b",
   "metadata": {},
   "outputs": [
    {
     "data": {
      "text/plain": [
       "0.3803"
      ]
     },
     "execution_count": 120,
     "metadata": {},
     "output_type": "execute_result"
    }
   ],
   "source": [
    "# If 450 students download anaconda, what is the likelihood that\n",
    "# there are no errors in the first 150, but there's at least\n",
    "# one error in the latter 300?\n",
    "first_150_student_sims = np.random.choice(\n",
    "    [True, False],\n",
    "    p=[1/250, 249/250],\n",
    "    size=(10_000, 150)\n",
    ")\n",
    "last_300_student_sims = np.random.choice(\n",
    "    [True, False],\n",
    "    p=[1/250, 249/250],\n",
    "    size=(10_000, 300)\n",
    ")\n",
    "\n",
    "df = pd.DataFrame()\n",
    "df['errors_in_first_150'] = first_150_student_sims.any(axis=1)\n",
    "df['errors_in_last_300'] = last_300_student_sims.any(axis=1)\n",
    "((~ df.errors_in_first_150) & (df.errors_in_last_300)).mean()"
   ]
  },
  {
   "cell_type": "code",
   "execution_count": 99,
   "id": "900f3a36-8889-4a01-bc6f-c62ecd0848aa",
   "metadata": {},
   "outputs": [
    {
     "data": {
      "text/plain": [
       "0    False\n",
       "1     True\n",
       "2    False\n",
       "dtype: bool"
      ]
     },
     "execution_count": 99,
     "metadata": {},
     "output_type": "execute_result"
    }
   ],
   "source": [
    "~ pd.Series([True, False, True])"
   ]
  },
  {
   "cell_type": "markdown",
   "id": "e2e11188-d6f6-447e-934d-74faa67133c2",
   "metadata": {},
   "source": [
    "P(at least one error in 150 students) = 0.4508\n",
    "P(no errors in first 150) = 1 - .4508\n",
    "P(at least one error in 300 students) = 0.7003"
   ]
  },
  {
   "cell_type": "code",
   "execution_count": 117,
   "id": "33f23fa8-7f62-4cad-baf5-4825e9397fd2",
   "metadata": {},
   "outputs": [
    {
     "data": {
      "text/plain": [
       "0.38460476000000005"
      ]
     },
     "execution_count": 117,
     "metadata": {},
     "output_type": "execute_result"
    }
   ],
   "source": [
    "(1 - .4508) * .7003"
   ]
  },
  {
   "cell_type": "code",
   "execution_count": 124,
   "id": "22f25999-0d05-4d1a-98e5-7d4a9477652c",
   "metadata": {},
   "outputs": [
    {
     "data": {
      "text/plain": [
       "0.0268"
      ]
     },
     "execution_count": 124,
     "metadata": {},
     "output_type": "execute_result"
    }
   ],
   "source": [
    "simulations = np.random.choice(\n",
    "    ['Food Truck', 'No Food Truck'],\n",
    "    p=[.7, .3],\n",
    "    size=(10_000, 3)\n",
    ")\n",
    "(simulations == 'No Food Truck').all(axis=1).mean()"
   ]
  },
  {
   "cell_type": "code",
   "execution_count": 167,
   "id": "b512982e-63d0-4250-84d6-015c2adcc7fc",
   "metadata": {},
   "outputs": [
    {
     "data": {
      "text/plain": [
       "0.99777"
      ]
     },
     "execution_count": 167,
     "metadata": {},
     "output_type": "execute_result"
    }
   ],
   "source": [
    "simulations = np.random.choice(\n",
    "    ['Food Truck', 'No Food Truck'],\n",
    "    p=[.7, .3],\n",
    "    size=(100_000, 5)\n",
    ")\n",
    "(simulations == 'Food Truck').any(axis=1).mean()"
   ]
  },
  {
   "cell_type": "code",
   "execution_count": 168,
   "id": "acdad79a-605a-4373-a042-09b0c260f066",
   "metadata": {},
   "outputs": [
    {
     "data": {
      "text/plain": [
       "192.30769230769232"
      ]
     },
     "execution_count": 168,
     "metadata": {},
     "output_type": "execute_result"
    }
   ],
   "source": [
    "10_000 / 52"
   ]
  },
  {
   "cell_type": "code",
   "execution_count": 177,
   "id": "1edfa2cc-7e34-4e89-af0a-2060346bd182",
   "metadata": {},
   "outputs": [
    {
     "data": {
      "text/plain": [
       "0.5115"
      ]
     },
     "execution_count": 177,
     "metadata": {},
     "output_type": "execute_result"
    }
   ],
   "source": [
    "simulations = np.random.randint(1, 366, size=(10_000, 23))\n",
    "simulations = pd.DataFrame(simulations)\n",
    "simulations\n",
    "(simulations.apply(lambda birthdays: birthdays.nunique(), axis=1) < 23).mean()"
   ]
  },
  {
   "cell_type": "code",
   "execution_count": 182,
   "id": "5176b6dc-6c62-4a85-a4ac-5639a7ea1175",
   "metadata": {},
   "outputs": [
    {
     "data": {
      "text/plain": [
       "0.413"
      ]
     },
     "execution_count": 182,
     "metadata": {},
     "output_type": "execute_result"
    }
   ],
   "source": [
    "simulations = np.random.randint(1, 366, size=(10_000, 20))\n",
    "simulations = pd.DataFrame(simulations)\n",
    "simulations\n",
    "(simulations.apply(lambda birthdays: birthdays.nunique(), axis=1) < 20).mean()"
   ]
  },
  {
   "cell_type": "code",
   "execution_count": 189,
   "id": "6ba40fcf-e750-4fd3-89cc-3f7cd725b81f",
   "metadata": {},
   "outputs": [
    {
     "data": {
      "text/plain": [
       "0.9715"
      ]
     },
     "execution_count": 189,
     "metadata": {},
     "output_type": "execute_result"
    }
   ],
   "source": [
    "simulations = np.random.randint(1, 366, size=(10_000, 50))\n",
    "simulations = pd.DataFrame(simulations)\n",
    "simulations\n",
    "(simulations.apply(lambda birthdays: birthdays.nunique(), axis=1) < 50).mean()"
   ]
  }
 ],
 "metadata": {
  "kernelspec": {
   "display_name": "Python 3",
   "language": "python",
   "name": "python3"
  },
  "language_info": {
   "codemirror_mode": {
    "name": "ipython",
    "version": 3
   },
   "file_extension": ".py",
   "mimetype": "text/x-python",
   "name": "python",
   "nbconvert_exporter": "python",
   "pygments_lexer": "ipython3",
   "version": "3.8.8"
  }
 },
 "nbformat": 4,
 "nbformat_minor": 5
}
